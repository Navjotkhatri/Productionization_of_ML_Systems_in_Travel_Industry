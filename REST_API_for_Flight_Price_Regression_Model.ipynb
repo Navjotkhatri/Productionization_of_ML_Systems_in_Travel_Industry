{
  "nbformat": 4,
  "nbformat_minor": 0,
  "metadata": {
    "colab": {
      "provenance": [],
      "mount_file_id": "1h75JO4jtrCMGunTmbKMlN-Jpz2-lCaAi",
      "authorship_tag": "ABX9TyNbjxqh5WOtbUOnrH3XwaOo",
      "include_colab_link": true
    },
    "kernelspec": {
      "name": "python3",
      "display_name": "Python 3"
    },
    "language_info": {
      "name": "python"
    }
  },
  "cells": [
    {
      "cell_type": "markdown",
      "metadata": {
        "id": "view-in-github",
        "colab_type": "text"
      },
      "source": [
        "<a href=\"https://colab.research.google.com/github/Navjotkhatri/Productionization_of_ML_Systems_in_Travel_Industry/blob/main/REST_API_for_Flight_Price_Regression_Model.ipynb\" target=\"_parent\"><img src=\"https://colab.research.google.com/assets/colab-badge.svg\" alt=\"Open In Colab\"/></a>"
      ]
    },
    {
      "cell_type": "markdown",
      "source": [
        "# **2. REST API for Regression Model:**\n",
        "\n",
        "**Develop a REST API using Flask to serve the flight price prediction model, enabling real-time price predictions.**"
      ],
      "metadata": {
        "id": "lLZbbL5PJzjk"
      }
    },
    {
      "cell_type": "code",
      "source": [
        "!pip install --upgrade scikit-learn==1.3.2"
      ],
      "metadata": {
        "colab": {
          "base_uri": "https://localhost:8080/"
        },
        "id": "G4s6vOP6J5Jk",
        "outputId": "d69a02e1-f9c5-4448-e2a0-b70b5bd6864b"
      },
      "execution_count": 1,
      "outputs": [
        {
          "output_type": "stream",
          "name": "stdout",
          "text": [
            "Requirement already satisfied: scikit-learn==1.3.2 in /usr/local/lib/python3.10/dist-packages (1.3.2)\n",
            "Requirement already satisfied: numpy<2.0,>=1.17.3 in /usr/local/lib/python3.10/dist-packages (from scikit-learn==1.3.2) (1.26.4)\n",
            "Requirement already satisfied: scipy>=1.5.0 in /usr/local/lib/python3.10/dist-packages (from scikit-learn==1.3.2) (1.13.1)\n",
            "Requirement already satisfied: joblib>=1.1.1 in /usr/local/lib/python3.10/dist-packages (from scikit-learn==1.3.2) (1.4.2)\n",
            "Requirement already satisfied: threadpoolctl>=2.0.0 in /usr/local/lib/python3.10/dist-packages (from scikit-learn==1.3.2) (3.5.0)\n"
          ]
        }
      ]
    },
    {
      "cell_type": "code",
      "source": [
        "!pip install flask-ngrok"
      ],
      "metadata": {
        "colab": {
          "base_uri": "https://localhost:8080/"
        },
        "id": "SgfNZ6zuF7Tl",
        "outputId": "33411ca8-c1c9-469e-efcb-67423e1ca289"
      },
      "execution_count": 2,
      "outputs": [
        {
          "output_type": "stream",
          "name": "stdout",
          "text": [
            "Collecting flask-ngrok\n",
            "  Downloading flask_ngrok-0.0.25-py3-none-any.whl.metadata (1.8 kB)\n",
            "Requirement already satisfied: Flask>=0.8 in /usr/local/lib/python3.10/dist-packages (from flask-ngrok) (2.2.5)\n",
            "Requirement already satisfied: requests in /usr/local/lib/python3.10/dist-packages (from flask-ngrok) (2.32.3)\n",
            "Requirement already satisfied: Werkzeug>=2.2.2 in /usr/local/lib/python3.10/dist-packages (from Flask>=0.8->flask-ngrok) (3.0.3)\n",
            "Requirement already satisfied: Jinja2>=3.0 in /usr/local/lib/python3.10/dist-packages (from Flask>=0.8->flask-ngrok) (3.1.4)\n",
            "Requirement already satisfied: itsdangerous>=2.0 in /usr/local/lib/python3.10/dist-packages (from Flask>=0.8->flask-ngrok) (2.2.0)\n",
            "Requirement already satisfied: click>=8.0 in /usr/local/lib/python3.10/dist-packages (from Flask>=0.8->flask-ngrok) (8.1.7)\n",
            "Requirement already satisfied: charset-normalizer<4,>=2 in /usr/local/lib/python3.10/dist-packages (from requests->flask-ngrok) (3.3.2)\n",
            "Requirement already satisfied: idna<4,>=2.5 in /usr/local/lib/python3.10/dist-packages (from requests->flask-ngrok) (3.7)\n",
            "Requirement already satisfied: urllib3<3,>=1.21.1 in /usr/local/lib/python3.10/dist-packages (from requests->flask-ngrok) (2.0.7)\n",
            "Requirement already satisfied: certifi>=2017.4.17 in /usr/local/lib/python3.10/dist-packages (from requests->flask-ngrok) (2024.7.4)\n",
            "Requirement already satisfied: MarkupSafe>=2.0 in /usr/local/lib/python3.10/dist-packages (from Jinja2>=3.0->Flask>=0.8->flask-ngrok) (2.1.5)\n",
            "Downloading flask_ngrok-0.0.25-py3-none-any.whl (3.1 kB)\n",
            "Installing collected packages: flask-ngrok\n",
            "Successfully installed flask-ngrok-0.0.25\n"
          ]
        }
      ]
    },
    {
      "cell_type": "code",
      "source": [
        "!pip install Flask pyngrok\n"
      ],
      "metadata": {
        "colab": {
          "base_uri": "https://localhost:8080/"
        },
        "id": "pgAP11M-eJPY",
        "outputId": "dc74a99e-8b11-4f66-a862-e167a8fd2b35"
      },
      "execution_count": 3,
      "outputs": [
        {
          "output_type": "stream",
          "name": "stdout",
          "text": [
            "Requirement already satisfied: Flask in /usr/local/lib/python3.10/dist-packages (2.2.5)\n",
            "Collecting pyngrok\n",
            "  Downloading pyngrok-7.2.0-py3-none-any.whl.metadata (7.4 kB)\n",
            "Requirement already satisfied: Werkzeug>=2.2.2 in /usr/local/lib/python3.10/dist-packages (from Flask) (3.0.3)\n",
            "Requirement already satisfied: Jinja2>=3.0 in /usr/local/lib/python3.10/dist-packages (from Flask) (3.1.4)\n",
            "Requirement already satisfied: itsdangerous>=2.0 in /usr/local/lib/python3.10/dist-packages (from Flask) (2.2.0)\n",
            "Requirement already satisfied: click>=8.0 in /usr/local/lib/python3.10/dist-packages (from Flask) (8.1.7)\n",
            "Requirement already satisfied: PyYAML>=5.1 in /usr/local/lib/python3.10/dist-packages (from pyngrok) (6.0.2)\n",
            "Requirement already satisfied: MarkupSafe>=2.0 in /usr/local/lib/python3.10/dist-packages (from Jinja2>=3.0->Flask) (2.1.5)\n",
            "Downloading pyngrok-7.2.0-py3-none-any.whl (22 kB)\n",
            "Installing collected packages: pyngrok\n",
            "Successfully installed pyngrok-7.2.0\n"
          ]
        }
      ]
    },
    {
      "cell_type": "code",
      "source": [
        "from flask import Flask, request, jsonify\n",
        "from pyngrok import ngrok\n",
        "import os\n",
        "import pickle"
      ],
      "metadata": {
        "id": "qSjieqJ-eNfI"
      },
      "execution_count": 4,
      "outputs": []
    },
    {
      "cell_type": "code",
      "source": [
        "import os\n",
        "import glob\n",
        "import pickle\n",
        "import joblib\n",
        "import warnings\n",
        "warnings.filterwarnings('ignore')\n",
        "import numpy as np\n",
        "import pandas as pd\n",
        "from pyngrok import ngrok\n",
        "from datetime import datetime\n",
        "from google.colab import drive\n",
        "from flask_ngrok import run_with_ngrok\n",
        "from sklearn.preprocessing import StandardScaler\n",
        "from flask import Flask, render_template, request, jsonify"
      ],
      "metadata": {
        "id": "UDc0u-mXhYQ3"
      },
      "execution_count": 5,
      "outputs": []
    },
    {
      "cell_type": "code",
      "source": [
        "app = Flask(__name__)\n"
      ],
      "metadata": {
        "id": "u-SteACLeQxN"
      },
      "execution_count": 6,
      "outputs": []
    },
    {
      "cell_type": "code",
      "source": [
        "!ngrok authtoken \"2kEiDvlDvDmlSrjFdidw1UnLQmx_32guShAgCSJ9W3gqsYXPA\""
      ],
      "metadata": {
        "colab": {
          "base_uri": "https://localhost:8080/"
        },
        "id": "1o5RxuAGPBQm",
        "outputId": "99071971-04e2-46a0-dd32-ccc485096a47"
      },
      "execution_count": 7,
      "outputs": [
        {
          "output_type": "stream",
          "name": "stdout",
          "text": [
            "Authtoken saved to configuration file: /root/.config/ngrok/ngrok.yml\n"
          ]
        }
      ]
    },
    {
      "cell_type": "code",
      "source": [
        "def predict_price(input_data, model, label_encoder, scaler):\n",
        "    text_columns = ['from', 'to', 'flightType', 'agency']\n",
        "    numerical_columns = ['month', 'speed', 'weekday_num', 'year']\n",
        "\n",
        "    # Define the speed value here\n",
        "    predefined_speed = 500  # Example speed value\n",
        "\n",
        "    # Convert input_data into DataFrame\n",
        "    df = pd.DataFrame([input_data])\n",
        "\n",
        "    # Access the best estimator from GridSearchCV\n",
        "    best_model = model.best_estimator_\n",
        "\n",
        "    # Encode text-based columns using LabelEncoder\n",
        "    for column in text_columns:\n",
        "        if column in df.columns:\n",
        "            df[column] = label_encoder[column].transform(df[column])\n",
        "\n",
        "    # Ensure all numerical columns are present\n",
        "    for column in numerical_columns:\n",
        "        if column == 'speed':\n",
        "            df[column] = predefined_speed  # Set the predefined speed value\n",
        "        elif column in df.columns:\n",
        "            df[column] = df[column].astype(float)\n",
        "\n",
        "    if scaler is not None:\n",
        "        missing_cols = [col for col in numerical_columns if col in df.columns]\n",
        "        if missing_cols:\n",
        "            df[missing_cols] = scaler.transform(df[missing_cols])\n",
        "\n",
        "    # Make prediction\n",
        "    prediction = best_model.predict(df)\n",
        "\n",
        "    return prediction[0]\n"
      ],
      "metadata": {
        "id": "HWOgUhgm07Jo"
      },
      "execution_count": 8,
      "outputs": []
    },
    {
      "cell_type": "code",
      "source": [
        "# Open the file in read-binary ('rb') mode\n",
        "with open('/content/drive/MyDrive/pickle/flight_price_prediction_regression.pkl', 'rb') as file:\n",
        "    model = pickle.load(file)"
      ],
      "metadata": {
        "id": "KIAHo69Tl8J2"
      },
      "execution_count": 9,
      "outputs": []
    },
    {
      "cell_type": "code",
      "source": [
        "# Open the file in read-binary ('rb') mode\n",
        "with open('/content/drive/MyDrive/pickle/label_encoders123.pkl', 'rb') as file:\n",
        "    label = pickle.load(file)"
      ],
      "metadata": {
        "id": "R0NHQ9xkEB0w"
      },
      "execution_count": 10,
      "outputs": []
    },
    {
      "cell_type": "code",
      "source": [
        "# Load the scaler\n",
        "scaler = joblib.load('/content/drive/MyDrive/pickle/scaler_model00.joblib')\n",
        "\n",
        "# Check the type to ensure it's a StandardScaler\n",
        "print(type(scaler))"
      ],
      "metadata": {
        "colab": {
          "base_uri": "https://localhost:8080/"
        },
        "id": "oqafHd_3mFPL",
        "outputId": "c1a66f1f-d7ad-40b7-82f7-19dd169cbfe3"
      },
      "execution_count": 11,
      "outputs": [
        {
          "output_type": "stream",
          "name": "stdout",
          "text": [
            "<class 'sklearn.preprocessing._data.StandardScaler'>\n"
          ]
        }
      ]
    },
    {
      "cell_type": "code",
      "source": [
        "input_date={\"agency\":\"CloudFy\",\"flightType\":\"economic\",\"from\":\"Recife (PE)\",\"month\":\"1\",\"speed\":\"300\",\"to\":\"Natal (RN)\",\"weekday_num\":\"4\",\"year\":\"2020\"}"
      ],
      "metadata": {
        "id": "5kXaisfblsZQ"
      },
      "execution_count": 12,
      "outputs": []
    },
    {
      "cell_type": "code",
      "source": [
        "predict_price(input_date,model,label,scaler)"
      ],
      "metadata": {
        "colab": {
          "base_uri": "https://localhost:8080/"
        },
        "id": "kquwF813ln_C",
        "outputId": "ff7cc1e8-8630-431b-85dc-268c8a6bcdeb"
      },
      "execution_count": 13,
      "outputs": [
        {
          "output_type": "execute_result",
          "data": {
            "text/plain": [
              "567.8864"
            ]
          },
          "metadata": {},
          "execution_count": 13
        }
      ]
    },
    {
      "cell_type": "code",
      "source": [
        "NGROK_AUTH_TOKEN = \"2kEiDvlDvDmlSrjFdidw1UnLQmx_32guShAgCSJ9W3gqsYXPA\"\n",
        "ngrok.set_auth_token(NGROK_AUTH_TOKEN)\n",
        "\n",
        "app = Flask(__name__)\n",
        "#run_with_ngrok(app)\n",
        "\n",
        "\n",
        "@app.route('/', methods=['GET', 'POST'])\n",
        "def predict():\n",
        "    return \"\"\"\n",
        "\n",
        "<!DOCTYPE html>\n",
        "<html>\n",
        "\n",
        "<head>\n",
        "    <title>Flight Price Prediction</title>\n",
        "    <style>\n",
        "        body {\n",
        "            font-family: 'Poppins', sans-serif;\n",
        "            background-color: #f9f9f9;\n",
        "            margin: 0;\n",
        "            padding: 0;\n",
        "        }\n",
        "\n",
        "        .container {\n",
        "            max-width: 800px;\n",
        "            margin: 0 auto;\n",
        "            padding: 40px;\n",
        "            background-color: #ffffff;\n",
        "            border-radius: 10px;\n",
        "            box-shadow: 0 10px 20px rgba(0, 0, 0, 0.1);\n",
        "            text-align: center;\n",
        "        }\n",
        "\n",
        "        h1 {\n",
        "            color: #39dde0;\n",
        "            font-size: 36px;\n",
        "            margin-bottom: 20px;\n",
        "        }\n",
        "\n",
        "        form {\n",
        "            text-align: left;\n",
        "        }\n",
        "\n",
        "        input[type=\"text\"],\n",
        "        input[type=\"number\"] {\n",
        "            width: 100%;\n",
        "            padding: 15px;\n",
        "            margin: 15px 0;\n",
        "            border: none;\n",
        "            border-bottom: 2px solid #39dde0;\n",
        "            font-size: 18px;\n",
        "            background-color: transparent;\n",
        "            color: #39dde0;\n",
        "            transition: border-bottom 0.3s ease;\n",
        "        }\n",
        "\n",
        "        input[type=\"text\"]:focus,\n",
        "        input[type=\"number\"]:focus {\n",
        "            border-bottom: 2px solid #39dde0;\n",
        "            outline: none;\n",
        "        }\n",
        "\n",
        "        input[type=\"radio\"] {\n",
        "            margin-right: 10px;\n",
        "        }\n",
        "\n",
        "        input[type=\"submit\"] {\n",
        "            background-color: #39dde0;\n",
        "            color: #fff;\n",
        "            padding: 15px 30px;\n",
        "            border: none;\n",
        "            border-radius: 5px;\n",
        "            cursor: pointer;\n",
        "            font-size: 20px;\n",
        "            transition: background-color 0.3s ease;\n",
        "        }\n",
        "\n",
        "        input[type=\"submit\"]:hover {\n",
        "            background-color: #39dde0;\n",
        "        }\n",
        "\n",
        "        p#prediction {\n",
        "            margin-top: 20px;\n",
        "            font-size: 24px;\n",
        "            color: #39dde0;\n",
        "        }\n",
        "    </style>\n",
        "</head>\n",
        "\n",
        "<body>\n",
        "    <div class=\"container\">\n",
        "        <h1>Flight Price Prediction</h1>\n",
        "        <hr style=\"border: 1px solid #39dde0; width: 80%; margin: 20px auto;\">\n",
        "        <form action=\"/predict\" method=\"POST\">\n",
        "\n",
        "            <label>Departure City:</label><br><br>\n",
        "\n",
        "\n",
        "            <input type=\"radio\" name=\"From\" value=\"Aracaju (SE)\">Aracaju (SE)<br>\n",
        "            <input type=\"radio\" name=\"From\" value=\"Brasilia (DF)\">Brasilia (DF)<br>\n",
        "            <input type=\"radio\" name=\"From\" value=\"Campo Grande (MS)\">Campo Grande (MS)<br>\n",
        "            <input type=\"radio\" name=\"From\" value=\"Florianopolis (SC)\">Florianopolis (SC)<br>\n",
        "            <input type=\"radio\" name=\"From\" value=\"Natal (RN)\">Natal (RN)<br>\n",
        "            <input type=\"radio\" name=\"From\" value=\"Recife (PE)\">Recife (PE)<br>\n",
        "            <input type=\"radio\" name=\"From\" value=\"Rio de Janeiro (RJ)\">Rio de Janeiro (RJ)<br>\n",
        "            <input type=\"radio\" name=\"From\" value=\"Salvador (BH)\">Salvador (BH)<br>\n",
        "            <input type=\"radio\" name=\"From\" value=\"Sao Paulo (SP)\">Sao Paulo (SP)<br><br>\n",
        "\n",
        "            <hr style=\"border: 1px solid #39dde0; width: 100%; margin: 20px auto;\">\n",
        "\n",
        "            <label>Destination City:</label><br><br>\n",
        "\n",
        "            <input type=\"radio\" name=\"To\" value=\"Aracaju (SE)\">Aracaju (SE)<br>\n",
        "            <input type=\"radio\" name=\"To\" value=\"Brasilia (DF)\">Brasilia (DF)<br>\n",
        "            <input type=\"radio\" name=\"To\" value=\"Campo Grande (MS)\">Campo Grande (MS)<br>\n",
        "            <input type=\"radio\" name=\"To\" value=\"Florianopolis (SC)\">Florianopolis (SC)<br>\n",
        "            <input type=\"radio\" name=\"To\" value=\"Natal (RN)\">Natal (RN)<br>\n",
        "            <input type=\"radio\" name=\"To\" value=\"Recife (PE)\">Recife (PE)<br>\n",
        "            <input type=\"radio\" name=\"To\" value=\"Rio de Janeiro (RJ)\">Rio de Janeiro (RJ)<br>\n",
        "            <input type=\"radio\" name=\"To\" value=\"Salvador (BH)\">Salvador (BH)<br>\n",
        "            <input type=\"radio\" name=\"To\" value=\"Sao Paulo (SP)\">Sao Paulo (SP)<br><br>\n",
        "\n",
        "            <hr style=\"border: 1px solid #39dde0; width: 100%; margin: 20px auto;\">\n",
        "\n",
        "            <label>Flight Type:</label><br><br>\n",
        "\n",
        "            <input type=\"radio\" name=\"flightType\" value=\"economic\"> Economic<br>\n",
        "            <input type=\"radio\" name=\"flightType\" value=\"firstClass\"> FirstClass<br>\n",
        "            <input type=\"radio\" name=\"flightType\" value=\"premium\"> Premium<br><br>\n",
        "\n",
        "            <hr style=\"border: 1px solid #39dde0; width: 100%; margin: 20px auto;\">\n",
        "\n",
        "\n",
        "            <label>Agency:</label><br><br>\n",
        "\n",
        "\n",
        "            <input type=\"radio\" name=\"agency\" value=\"CloudFy\"> CloudFy<br>\n",
        "            <input type=\"radio\" name=\"agency\" value=\"FlyingDrops\"> FlyingDrops<br>\n",
        "            <input type=\"radio\" name=\"agency\" value=\"Rainbow\"> Rainbow<br><br>\n",
        "\n",
        "            <hr style=\"border: 1px solid #39dde0; width: 100%; margin: 20px auto;\">\n",
        "\n",
        "            <label for=\"weekday_num\">Weekday (0=Sunday, 6=Saturday):</label>\n",
        "            <input type=\"number\" name=\"weekday_num\" min=\"0\" max=\"6\" placeholder=\"Day of the week\"><br>\n",
        "\n",
        "            <label for=\"month\">Month:</label>\n",
        "            <input type=\"number\" name=\"month\" min=\"1\" max=\"12\" placeholder=\"Month\"><br>\n",
        "\n",
        "            <label for=\"year\">Year:</label>\n",
        "            <input type=\"number\" name=\"year\" min=\"2019\" max=\"2123\" placeholder=\"Year\"><br>\n",
        "\n",
        "\n",
        "            <input type=\"submit\" value=\"Predict\">\n",
        "        </form>\n",
        "        <p id=\"prediction\"></p>\n",
        "    </div>\n",
        "</body>\n",
        "\n",
        "</html>\n",
        "\n",
        "\n",
        "    \"\"\"\n",
        "\n",
        "@app.route('/predict', methods=['POST'])\n",
        "def index():\n",
        "    if request.method == 'POST':\n",
        "        # Get input data from the form\n",
        "        From = request.form.get('From')\n",
        "        To = request.form.get('To')\n",
        "        flighttype = request.form.get('flightType')\n",
        "        agency = request.form.get('agency')\n",
        "        weekday_num = request.form.get('weekday_num')\n",
        "        month = request.form.get('month')\n",
        "        year = request.form.get('year')\n",
        "\n",
        "        # Create a dictionary to store the input data\n",
        "        data = {\n",
        "            'from': From,\n",
        "            'to': To,\n",
        "            'flightType': flighttype,\n",
        "            'agency': agency,\n",
        "            'weekday_num': weekday_num,\n",
        "            'month': month,\n",
        "            'year': year\n",
        "        }\n",
        "\n",
        "        # Perform prediction using the custom_input dictionary\n",
        "        prediction = predict_price(data,model,label,scaler)\n",
        "        prediction = str(prediction)\n",
        "\n",
        "        return jsonify({'Your Flight Price($) will be around': prediction})\n",
        "\n",
        "# Open a tunnel on the default port 5000\n",
        "public_url = ngrok.connect(5000)\n",
        "print(f\"Your Flask app is running on {public_url}\")\n",
        "\n",
        "if __name__ == \"__main__\":\n",
        "    app.run()"
      ],
      "metadata": {
        "colab": {
          "base_uri": "https://localhost:8080/"
        },
        "id": "hH8CvpDvfI3H",
        "outputId": "2c4baec4-f2d0-4e62-c207-499566aa25f9"
      },
      "execution_count": 15,
      "outputs": [
        {
          "output_type": "stream",
          "name": "stdout",
          "text": [
            "Your Flask app is running on NgrokTunnel: \"https://0c76-34-106-47-182.ngrok-free.app\" -> \"http://localhost:5000\"\n",
            " * Serving Flask app '__main__'\n",
            " * Debug mode: off\n"
          ]
        },
        {
          "output_type": "stream",
          "name": "stderr",
          "text": [
            "INFO:werkzeug:\u001b[31m\u001b[1mWARNING: This is a development server. Do not use it in a production deployment. Use a production WSGI server instead.\u001b[0m\n",
            " * Running on http://127.0.0.1:5000\n",
            "INFO:werkzeug:\u001b[33mPress CTRL+C to quit\u001b[0m\n",
            "INFO:werkzeug:127.0.0.1 - - [10/Aug/2024 10:29:02] \"GET / HTTP/1.1\" 200 -\n",
            "INFO:werkzeug:127.0.0.1 - - [10/Aug/2024 10:29:02] \"\u001b[33mGET /favicon.ico HTTP/1.1\u001b[0m\" 404 -\n",
            "INFO:werkzeug:127.0.0.1 - - [10/Aug/2024 10:29:17] \"POST /predict HTTP/1.1\" 200 -\n",
            "INFO:werkzeug:127.0.0.1 - - [10/Aug/2024 10:29:47] \"GET / HTTP/1.1\" 200 -\n"
          ]
        }
      ]
    },
    {
      "cell_type": "code",
      "source": [],
      "metadata": {
        "id": "1otkmupTnCGO"
      },
      "execution_count": null,
      "outputs": []
    },
    {
      "cell_type": "markdown",
      "source": [
        "![Screenshot 2024-08-10 160011.png](data:image/png;base64,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)"
      ],
      "metadata": {
        "id": "MD8tQDER1tcD"
      }
    }
  ]
}