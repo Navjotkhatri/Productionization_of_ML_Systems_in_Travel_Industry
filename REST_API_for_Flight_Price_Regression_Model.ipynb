{
  "nbformat": 4,
  "nbformat_minor": 0,
  "metadata": {
    "colab": {
      "provenance": [],
      "mount_file_id": "1h75JO4jtrCMGunTmbKMlN-Jpz2-lCaAi",
      "authorship_tag": "ABX9TyOaHOmCSPB/zRYkTGhZP3Se",
      "include_colab_link": true
    },
    "kernelspec": {
      "name": "python3",
      "display_name": "Python 3"
    },
    "language_info": {
      "name": "python"
    }
  },
  "cells": [
    {
      "cell_type": "markdown",
      "metadata": {
        "id": "view-in-github",
        "colab_type": "text"
      },
      "source": [
        "<a href=\"https://colab.research.google.com/github/Navjotkhatri/Productionization_of_ML_Systems_in_Travel_Industry/blob/main/REST_API_for_Flight_Price_Regression_Model.ipynb\" target=\"_parent\"><img src=\"https://colab.research.google.com/assets/colab-badge.svg\" alt=\"Open In Colab\"/></a>"
      ]
    },
    {
      "cell_type": "markdown",
      "source": [
        "# **2. REST API for Regression Model:**\n",
        "\n",
        "**Develop a REST API using Flask to serve the flight price prediction model, enabling real-time price predictions.**"
      ],
      "metadata": {
        "id": "lLZbbL5PJzjk"
      }
    },
    {
      "cell_type": "code",
      "source": [
        "from flask import Flask\n"
      ],
      "metadata": {
        "id": "fFeZqFbtduQq"
      },
      "execution_count": 43,
      "outputs": []
    },
    {
      "cell_type": "code",
      "source": [
        "app = Flask(__name__)"
      ],
      "metadata": {
        "id": "u6-XQnbHdwvn"
      },
      "execution_count": 44,
      "outputs": []
    },
    {
      "cell_type": "code",
      "source": [
        "!pip install flask_ngrok pyngrok sentence-transformers"
      ],
      "metadata": {
        "colab": {
          "base_uri": "https://localhost:8080/"
        },
        "id": "GjmrnFjrdpXe",
        "outputId": "6f65d7d6-ffb9-4ff3-8c2d-598571fe5c05"
      },
      "execution_count": 45,
      "outputs": [
        {
          "output_type": "stream",
          "name": "stdout",
          "text": [
            "Requirement already satisfied: flask_ngrok in /usr/local/lib/python3.10/dist-packages (0.0.25)\n",
            "Requirement already satisfied: pyngrok in /usr/local/lib/python3.10/dist-packages (7.2.0)\n",
            "Requirement already satisfied: sentence-transformers in /usr/local/lib/python3.10/dist-packages (3.0.1)\n",
            "Requirement already satisfied: Flask>=0.8 in /usr/local/lib/python3.10/dist-packages (from flask_ngrok) (2.2.5)\n",
            "Requirement already satisfied: requests in /usr/local/lib/python3.10/dist-packages (from flask_ngrok) (2.32.3)\n",
            "Requirement already satisfied: PyYAML>=5.1 in /usr/local/lib/python3.10/dist-packages (from pyngrok) (6.0.1)\n",
            "Requirement already satisfied: transformers<5.0.0,>=4.34.0 in /usr/local/lib/python3.10/dist-packages (from sentence-transformers) (4.42.4)\n",
            "Requirement already satisfied: tqdm in /usr/local/lib/python3.10/dist-packages (from sentence-transformers) (4.66.5)\n",
            "Requirement already satisfied: torch>=1.11.0 in /usr/local/lib/python3.10/dist-packages (from sentence-transformers) (2.3.1+cu121)\n",
            "Requirement already satisfied: numpy in /usr/local/lib/python3.10/dist-packages (from sentence-transformers) (1.26.4)\n",
            "Requirement already satisfied: scikit-learn in /usr/local/lib/python3.10/dist-packages (from sentence-transformers) (1.3.2)\n",
            "Requirement already satisfied: scipy in /usr/local/lib/python3.10/dist-packages (from sentence-transformers) (1.13.1)\n",
            "Requirement already satisfied: huggingface-hub>=0.15.1 in /usr/local/lib/python3.10/dist-packages (from sentence-transformers) (0.23.5)\n",
            "Requirement already satisfied: Pillow in /usr/local/lib/python3.10/dist-packages (from sentence-transformers) (9.4.0)\n",
            "Requirement already satisfied: Werkzeug>=2.2.2 in /usr/local/lib/python3.10/dist-packages (from Flask>=0.8->flask_ngrok) (3.0.3)\n",
            "Requirement already satisfied: Jinja2>=3.0 in /usr/local/lib/python3.10/dist-packages (from Flask>=0.8->flask_ngrok) (3.1.4)\n",
            "Requirement already satisfied: itsdangerous>=2.0 in /usr/local/lib/python3.10/dist-packages (from Flask>=0.8->flask_ngrok) (2.2.0)\n",
            "Requirement already satisfied: click>=8.0 in /usr/local/lib/python3.10/dist-packages (from Flask>=0.8->flask_ngrok) (8.1.7)\n",
            "Requirement already satisfied: filelock in /usr/local/lib/python3.10/dist-packages (from huggingface-hub>=0.15.1->sentence-transformers) (3.15.4)\n",
            "Requirement already satisfied: fsspec>=2023.5.0 in /usr/local/lib/python3.10/dist-packages (from huggingface-hub>=0.15.1->sentence-transformers) (2024.6.1)\n",
            "Requirement already satisfied: packaging>=20.9 in /usr/local/lib/python3.10/dist-packages (from huggingface-hub>=0.15.1->sentence-transformers) (24.1)\n",
            "Requirement already satisfied: typing-extensions>=3.7.4.3 in /usr/local/lib/python3.10/dist-packages (from huggingface-hub>=0.15.1->sentence-transformers) (4.12.2)\n",
            "Requirement already satisfied: sympy in /usr/local/lib/python3.10/dist-packages (from torch>=1.11.0->sentence-transformers) (1.13.1)\n",
            "Requirement already satisfied: networkx in /usr/local/lib/python3.10/dist-packages (from torch>=1.11.0->sentence-transformers) (3.3)\n",
            "Requirement already satisfied: nvidia-cuda-nvrtc-cu12==12.1.105 in /usr/local/lib/python3.10/dist-packages (from torch>=1.11.0->sentence-transformers) (12.1.105)\n",
            "Requirement already satisfied: nvidia-cuda-runtime-cu12==12.1.105 in /usr/local/lib/python3.10/dist-packages (from torch>=1.11.0->sentence-transformers) (12.1.105)\n",
            "Requirement already satisfied: nvidia-cuda-cupti-cu12==12.1.105 in /usr/local/lib/python3.10/dist-packages (from torch>=1.11.0->sentence-transformers) (12.1.105)\n",
            "Requirement already satisfied: nvidia-cudnn-cu12==8.9.2.26 in /usr/local/lib/python3.10/dist-packages (from torch>=1.11.0->sentence-transformers) (8.9.2.26)\n",
            "Requirement already satisfied: nvidia-cublas-cu12==12.1.3.1 in /usr/local/lib/python3.10/dist-packages (from torch>=1.11.0->sentence-transformers) (12.1.3.1)\n",
            "Requirement already satisfied: nvidia-cufft-cu12==11.0.2.54 in /usr/local/lib/python3.10/dist-packages (from torch>=1.11.0->sentence-transformers) (11.0.2.54)\n",
            "Requirement already satisfied: nvidia-curand-cu12==10.3.2.106 in /usr/local/lib/python3.10/dist-packages (from torch>=1.11.0->sentence-transformers) (10.3.2.106)\n",
            "Requirement already satisfied: nvidia-cusolver-cu12==11.4.5.107 in /usr/local/lib/python3.10/dist-packages (from torch>=1.11.0->sentence-transformers) (11.4.5.107)\n",
            "Requirement already satisfied: nvidia-cusparse-cu12==12.1.0.106 in /usr/local/lib/python3.10/dist-packages (from torch>=1.11.0->sentence-transformers) (12.1.0.106)\n",
            "Requirement already satisfied: nvidia-nccl-cu12==2.20.5 in /usr/local/lib/python3.10/dist-packages (from torch>=1.11.0->sentence-transformers) (2.20.5)\n",
            "Requirement already satisfied: nvidia-nvtx-cu12==12.1.105 in /usr/local/lib/python3.10/dist-packages (from torch>=1.11.0->sentence-transformers) (12.1.105)\n",
            "Requirement already satisfied: triton==2.3.1 in /usr/local/lib/python3.10/dist-packages (from torch>=1.11.0->sentence-transformers) (2.3.1)\n",
            "Requirement already satisfied: nvidia-nvjitlink-cu12 in /usr/local/lib/python3.10/dist-packages (from nvidia-cusolver-cu12==11.4.5.107->torch>=1.11.0->sentence-transformers) (12.6.20)\n",
            "Requirement already satisfied: regex!=2019.12.17 in /usr/local/lib/python3.10/dist-packages (from transformers<5.0.0,>=4.34.0->sentence-transformers) (2024.5.15)\n",
            "Requirement already satisfied: safetensors>=0.4.1 in /usr/local/lib/python3.10/dist-packages (from transformers<5.0.0,>=4.34.0->sentence-transformers) (0.4.4)\n",
            "Requirement already satisfied: tokenizers<0.20,>=0.19 in /usr/local/lib/python3.10/dist-packages (from transformers<5.0.0,>=4.34.0->sentence-transformers) (0.19.1)\n",
            "Requirement already satisfied: charset-normalizer<4,>=2 in /usr/local/lib/python3.10/dist-packages (from requests->flask_ngrok) (3.3.2)\n",
            "Requirement already satisfied: idna<4,>=2.5 in /usr/local/lib/python3.10/dist-packages (from requests->flask_ngrok) (3.7)\n",
            "Requirement already satisfied: urllib3<3,>=1.21.1 in /usr/local/lib/python3.10/dist-packages (from requests->flask_ngrok) (2.0.7)\n",
            "Requirement already satisfied: certifi>=2017.4.17 in /usr/local/lib/python3.10/dist-packages (from requests->flask_ngrok) (2024.7.4)\n",
            "Requirement already satisfied: joblib>=1.1.1 in /usr/local/lib/python3.10/dist-packages (from scikit-learn->sentence-transformers) (1.4.2)\n",
            "Requirement already satisfied: threadpoolctl>=2.0.0 in /usr/local/lib/python3.10/dist-packages (from scikit-learn->sentence-transformers) (3.5.0)\n",
            "Requirement already satisfied: MarkupSafe>=2.0 in /usr/local/lib/python3.10/dist-packages (from Jinja2>=3.0->Flask>=0.8->flask_ngrok) (2.1.5)\n",
            "Requirement already satisfied: mpmath<1.4,>=1.1.0 in /usr/local/lib/python3.10/dist-packages (from sympy->torch>=1.11.0->sentence-transformers) (1.3.0)\n"
          ]
        }
      ]
    },
    {
      "cell_type": "code",
      "source": [
        "import os\n",
        "import glob\n",
        "import pickle\n",
        "import numpy as np\n",
        "import pandas as pd\n",
        "from pyngrok import ngrok\n",
        "from datetime import datetime\n",
        "from google.colab import drive\n",
        "from flask_ngrok import run_with_ngrok\n",
        "from sklearn.preprocessing import StandardScaler\n",
        "from flask import Flask, render_template, request, jsonify\n",
        "from sklearn.preprocessing import StandardScaler"
      ],
      "metadata": {
        "id": "Zj8t6mw4eoOz"
      },
      "execution_count": 46,
      "outputs": []
    },
    {
      "cell_type": "code",
      "source": [
        "import numpy as np\n",
        "from sklearn.preprocessing import StandardScaler\n",
        "\n",
        "def predict_price(input_data, model):\n",
        "  text_columns=['from','to','flightType','agency','weekday_num','month','year','speed']\n",
        "  df=pd.DataFrame([input_data])\n",
        "  for column in text_columns:\n",
        "    df[column+'_embedding']=df[column].apply(lambda text: model.encode(text))\n",
        "  #X=scaler.transform(df)\n",
        "  y_pred=model.predict(X)\n",
        "  return y_pred[0]"
      ],
      "metadata": {
        "id": "1zYYaJ2k5Ad5"
      },
      "execution_count": 47,
      "outputs": []
    },
    {
      "cell_type": "code",
      "source": [
        "import pickle\n",
        "\n",
        "# Open the file in binary read mode ('rb')\n",
        "with open('/content/flight_price_prediction_regression.pkl', 'rb') as file:\n",
        "    model = pickle.load(file)  # Load the model from the file object"
      ],
      "metadata": {
        "id": "fTgkWj0xLf1z"
      },
      "execution_count": 48,
      "outputs": []
    },
    {
      "cell_type": "code",
      "source": [],
      "metadata": {
        "id": "Rc4DQDNGjiQe"
      },
      "execution_count": 48,
      "outputs": []
    },
    {
      "cell_type": "code",
      "source": [],
      "metadata": {
        "id": "DRxAXwdsOABq"
      },
      "execution_count": 48,
      "outputs": []
    },
    {
      "cell_type": "code",
      "source": [],
      "metadata": {
        "id": "_ZMHFiQoN_23"
      },
      "execution_count": 48,
      "outputs": []
    },
    {
      "cell_type": "code",
      "source": [
        "!ngrok authtoken \"2kEiDvlDvDmlSrjFdidw1UnLQmx_32guShAgCSJ9W3gqsYXPA\""
      ],
      "metadata": {
        "colab": {
          "base_uri": "https://localhost:8080/"
        },
        "id": "1o5RxuAGPBQm",
        "outputId": "92fce576-5ef9-4ef2-9b38-1f236a7db910"
      },
      "execution_count": 49,
      "outputs": [
        {
          "output_type": "stream",
          "name": "stdout",
          "text": [
            "Authtoken saved to configuration file: /root/.config/ngrok/ngrok.yml\n"
          ]
        }
      ]
    },
    {
      "cell_type": "code",
      "source": [
        "from flask import Flask, request, jsonify\n",
        "from flask_ngrok import run_with_ngrok\n",
        "\n",
        "app = Flask(__name__)\n",
        "run_with_ngrok(app)\n",
        "\n",
        "@app.route('/', methods=['GET', 'POST'])\n",
        "def predict():\n",
        "    return \"\"\"\n",
        "    <!-- Insert the HTML form code here -->\n",
        "    <!DOCTYPE html>\n",
        "<html>\n",
        "\n",
        "<head>\n",
        "    <title>Flight Price Prediction</title>\n",
        "        <style>\n",
        "        body {\n",
        "            font-family: 'Poppins', sans-serif;\n",
        "            background-color: #f9f9f9;\n",
        "            margin: 0;\n",
        "            padding: 0;\n",
        "        }\n",
        "\n",
        "        .container {\n",
        "            max-width: 800px;\n",
        "            margin: 0 auto;\n",
        "            padding: 40px;\n",
        "            background-color: #ffffff;\n",
        "            border-radius: 10px;\n",
        "            box-shadow: 0 10px 20px rgba(0, 0, 0, 0.1);\n",
        "            text-align: center;\n",
        "        }\n",
        "\n",
        "        h1 {\n",
        "            color: #184344;\n",
        "            font-size: 36px;\n",
        "            margin-bottom: 20px;\n",
        "        }\n",
        "\n",
        "        form {\n",
        "            text-align: left;\n",
        "        }\n",
        "\n",
        "        input[type=\"text\"],\n",
        "        input[type=\"number\"] {\n",
        "            width: 100%;\n",
        "            padding: 15px;\n",
        "            margin: 15px 0;\n",
        "            border: none;\n",
        "            border-bottom: 2px solid #184344;\n",
        "            font-size: 18px;\n",
        "            background-color: transparent;\n",
        "            color: #333;\n",
        "            transition: border-bottom 0.3s ease;\n",
        "        }\n",
        "\n",
        "        input[type=\"text\"]:focus,\n",
        "        input[type=\"number\"]:focus {\n",
        "            border-bottom: 2px solid #184344;\n",
        "            outline: none;\n",
        "        }\n",
        "\n",
        "        input[type=\"checkbox\"] {\n",
        "            margin-right: 10px;\n",
        "        }\n",
        "\n",
        "        input[type=\"submit\"] {\n",
        "            background-color: #184344;\n",
        "            color: #fff;\n",
        "            padding: 15px 30px;\n",
        "            border: none;\n",
        "            border-radius: 5px;\n",
        "            cursor: pointer;\n",
        "            font-size: 20px;\n",
        "            transition: background-color 0.3s ease;\n",
        "        }\n",
        "\n",
        "        input[type=\"submit\"]:hover {\n",
        "            background-color: #184344;\n",
        "        }\n",
        "\n",
        "        p#prediction {\n",
        "            margin-top: 20px;\n",
        "            font-size: 24px;\n",
        "            color: #184344;\n",
        "        }\n",
        "    </style>\n",
        "</head>\n",
        "\n",
        "<body>\n",
        "    <div class=\"container\">\n",
        "        <h1>Flight Price Prediction</h1>\n",
        "        <form action=\"/predict\" method=\"POST\">\n",
        "\n",
        "            <label>Departure City:</label><br><br>\n",
        "            <input type=\"radio\" name=\"from_city\" value=\"Aracaju (SE)\">Aracaju (SE)<br>\n",
        "            <input type=\"radio\" name=\"from_city\" value=\"Brasilia (DF)\">Brasilia (DF)<br>\n",
        "            <input type=\"radio\" name=\"from_city\" value=\"Campo Grande (MS)\">Campo Grande (MS)<br>\n",
        "            <!-- Other cities... -->\n",
        "            <br>\n",
        "\n",
        "            <label>Destination City:</label><br><br>\n",
        "            <input type=\"radio\" name=\"to_city\" value=\"Aracaju (SE)\">Aracaju (SE)<br>\n",
        "            <input type=\"radio\" name=\"to_city\" value=\"Brasilia (DF)\">Brasilia (DF)<br>\n",
        "            <input type=\"radio\" name=\"to_city\" value=\"Campo Grande (MS)\">Campo Grande (MS)<br>\n",
        "            <!-- Other cities... -->\n",
        "            <br>\n",
        "\n",
        "            <label>Flight Type:</label><br><br>\n",
        "            <input type=\"radio\" name=\"flightType\" value=\"economic\"> Economic<br>\n",
        "            <input type=\"radio\" name=\"flightType\" value=\"firstClass\"> FirstClass<br>\n",
        "            <input type=\"radio\" name=\"flightType\" value=\"premium\"> Premium<br>\n",
        "            <br>\n",
        "\n",
        "            <label>Agency:</label><br><br>\n",
        "            <input type=\"radio\" name=\"agency\" value=\"CloudFy\"> CloudFy<br>\n",
        "            <input type=\"radio\" name=\"agency\" value=\"FlyingDrops\"> FlyingDrops<br>\n",
        "            <input type=\"radio\" name=\"agency\" value=\"Rainbow\"> Rainbow<br>\n",
        "            <br>\n",
        "\n",
        "            <label for=\"weekday_num\">Weekday (0=Sunday, 6=Saturday):</label>\n",
        "            <input type=\"number\" name=\"weekday_num\" min=\"0\" max=\"6\" placeholder=\"Day of the week\"><br>\n",
        "\n",
        "            <label for=\"month\">Month:</label>\n",
        "            <input type=\"number\" name=\"month\" min=\"1\" max=\"12\" placeholder=\"Month\"><br>\n",
        "\n",
        "            <label for=\"year\">Year:</label>\n",
        "            <input type=\"number\" name=\"year\" min=\"2023\" max=\"2123\" placeholder=\"Year\"><br>\n",
        "\n",
        "            <input type=\"submit\" value=\"Predict\">\n",
        "        </form>\n",
        "        <p id=\"prediction\"></p>\n",
        "    </div>\n",
        "</body>\n",
        "\n",
        "</html>\n",
        "\n",
        "    \"\"\"\n",
        "\n",
        "@app.route('/predict', methods=['POST'])\n",
        "def index():\n",
        "    if request.method == 'POST':\n",
        "        # Get input data from the form\n",
        "        from_city = request.form.get('from_city')\n",
        "        to_city = request.form.get('to_city')\n",
        "        flighttype = request.form.get('flightType')\n",
        "        agency = request.form.get('agency')\n",
        "        weekday_num = request.form.get('weekday_num')\n",
        "        month = request.form.get('month')\n",
        "        year = request.form.get('year')\n",
        "\n",
        "        # Default speed value if speed is not part of the form\n",
        "        speed = 800  # Example default value, adjust as needed\n",
        "\n",
        "        # Create a dictionary to store the input data\n",
        "        data = {\n",
        "            'From': from_city,\n",
        "            'To': to_city,\n",
        "            'flightType': flighttype,\n",
        "            'agency': agency,\n",
        "            'weekday_num': weekday_num,\n",
        "            'month': month,\n",
        "            'year': year,\n",
        "            'speed': speed  # using default value\n",
        "        }\n",
        "\n",
        "        # Perform prediction using the input data dictionary\n",
        "        predicted_price = str(round(predict_price(data, model), 2))\n",
        "\n",
        "        return jsonify({'prediction': predicted_price})\n",
        "\n",
        "if __name__ == \"__main__\":\n",
        "    app.run()\n"
      ],
      "metadata": {
        "colab": {
          "base_uri": "https://localhost:8080/"
        },
        "id": "5T8VJF6uOKM7",
        "outputId": "d95a6e7c-cfcd-46d1-d61d-488e504d9b1c"
      },
      "execution_count": 50,
      "outputs": [
        {
          "output_type": "stream",
          "name": "stdout",
          "text": [
            " * Serving Flask app '__main__'\n",
            " * Debug mode: off\n"
          ]
        },
        {
          "output_type": "stream",
          "name": "stderr",
          "text": [
            "INFO:werkzeug:\u001b[31m\u001b[1mWARNING: This is a development server. Do not use it in a production deployment. Use a production WSGI server instead.\u001b[0m\n",
            " * Running on http://127.0.0.1:5000\n",
            "INFO:werkzeug:\u001b[33mPress CTRL+C to quit\u001b[0m\n",
            "Exception in thread Thread-21:\n",
            "Traceback (most recent call last):\n",
            "  File \"/usr/local/lib/python3.10/dist-packages/urllib3/connection.py\", line 203, in _new_conn\n",
            "    sock = connection.create_connection(\n",
            "  File \"/usr/local/lib/python3.10/dist-packages/urllib3/util/connection.py\", line 85, in create_connection\n",
            "    raise err\n",
            "  File \"/usr/local/lib/python3.10/dist-packages/urllib3/util/connection.py\", line 73, in create_connection\n",
            "    sock.connect(sa)\n",
            "ConnectionRefusedError: [Errno 111] Connection refused\n",
            "\n",
            "The above exception was the direct cause of the following exception:\n",
            "\n",
            "Traceback (most recent call last):\n",
            "  File \"/usr/local/lib/python3.10/dist-packages/urllib3/connectionpool.py\", line 791, in urlopen\n",
            "    response = self._make_request(\n",
            "  File \"/usr/local/lib/python3.10/dist-packages/urllib3/connectionpool.py\", line 497, in _make_request\n",
            "    conn.request(\n",
            "  File \"/usr/local/lib/python3.10/dist-packages/urllib3/connection.py\", line 395, in request\n",
            "    self.endheaders()\n",
            "  File \"/usr/lib/python3.10/http/client.py\", line 1278, in endheaders\n",
            "    self._send_output(message_body, encode_chunked=encode_chunked)\n",
            "  File \"/usr/lib/python3.10/http/client.py\", line 1038, in _send_output\n",
            "    self.send(msg)\n",
            "  File \"/usr/lib/python3.10/http/client.py\", line 976, in send\n",
            "    self.connect()\n",
            "  File \"/usr/local/lib/python3.10/dist-packages/urllib3/connection.py\", line 243, in connect\n",
            "    self.sock = self._new_conn()\n",
            "  File \"/usr/local/lib/python3.10/dist-packages/urllib3/connection.py\", line 218, in _new_conn\n",
            "    raise NewConnectionError(\n",
            "urllib3.exceptions.NewConnectionError: <urllib3.connection.HTTPConnection object at 0x7ea078b1b0d0>: Failed to establish a new connection: [Errno 111] Connection refused\n",
            "\n",
            "The above exception was the direct cause of the following exception:\n",
            "\n",
            "Traceback (most recent call last):\n",
            "  File \"/usr/local/lib/python3.10/dist-packages/requests/adapters.py\", line 667, in send\n",
            "    resp = conn.urlopen(\n",
            "  File \"/usr/local/lib/python3.10/dist-packages/urllib3/connectionpool.py\", line 845, in urlopen\n",
            "    retries = retries.increment(\n",
            "  File \"/usr/local/lib/python3.10/dist-packages/urllib3/util/retry.py\", line 515, in increment\n",
            "    raise MaxRetryError(_pool, url, reason) from reason  # type: ignore[arg-type]\n",
            "urllib3.exceptions.MaxRetryError: HTTPConnectionPool(host='localhost', port=4040): Max retries exceeded with url: /api/tunnels (Caused by NewConnectionError('<urllib3.connection.HTTPConnection object at 0x7ea078b1b0d0>: Failed to establish a new connection: [Errno 111] Connection refused'))\n",
            "\n",
            "During handling of the above exception, another exception occurred:\n",
            "\n",
            "Traceback (most recent call last):\n",
            "  File \"/usr/lib/python3.10/threading.py\", line 1016, in _bootstrap_inner\n",
            "    self.run()\n",
            "  File \"/usr/lib/python3.10/threading.py\", line 1378, in run\n",
            "    self.function(*self.args, **self.kwargs)\n",
            "  File \"/usr/local/lib/python3.10/dist-packages/flask_ngrok.py\", line 70, in start_ngrok\n",
            "    ngrok_address = _run_ngrok()\n",
            "  File \"/usr/local/lib/python3.10/dist-packages/flask_ngrok.py\", line 35, in _run_ngrok\n",
            "    tunnel_url = requests.get(localhost_url).text  # Get the tunnel information\n",
            "  File \"/usr/local/lib/python3.10/dist-packages/requests/api.py\", line 73, in get\n",
            "    return request(\"get\", url, params=params, **kwargs)\n",
            "  File \"/usr/local/lib/python3.10/dist-packages/requests/api.py\", line 59, in request\n",
            "    return session.request(method=method, url=url, **kwargs)\n",
            "  File \"/usr/local/lib/python3.10/dist-packages/requests/sessions.py\", line 589, in request\n",
            "    resp = self.send(prep, **send_kwargs)\n",
            "  File \"/usr/local/lib/python3.10/dist-packages/requests/sessions.py\", line 703, in send\n",
            "    r = adapter.send(request, **kwargs)\n",
            "  File \"/usr/local/lib/python3.10/dist-packages/requests/adapters.py\", line 700, in send\n",
            "    raise ConnectionError(e, request=request)\n",
            "requests.exceptions.ConnectionError: HTTPConnectionPool(host='localhost', port=4040): Max retries exceeded with url: /api/tunnels (Caused by NewConnectionError('<urllib3.connection.HTTPConnection object at 0x7ea078b1b0d0>: Failed to establish a new connection: [Errno 111] Connection refused'))\n"
          ]
        }
      ]
    },
    {
      "cell_type": "code",
      "source": [],
      "metadata": {
        "id": "0REiucG3OKJq"
      },
      "execution_count": 50,
      "outputs": []
    }
  ]
}