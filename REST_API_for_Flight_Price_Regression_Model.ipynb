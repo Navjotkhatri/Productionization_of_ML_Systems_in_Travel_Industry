{
  "nbformat": 4,
  "nbformat_minor": 0,
  "metadata": {
    "colab": {
      "provenance": [],
      "mount_file_id": "1h75JO4jtrCMGunTmbKMlN-Jpz2-lCaAi",
      "authorship_tag": "ABX9TyMKEEM6wFaKVVOZTrFf3955",
      "include_colab_link": true
    },
    "kernelspec": {
      "name": "python3",
      "display_name": "Python 3"
    },
    "language_info": {
      "name": "python"
    }
  },
  "cells": [
    {
      "cell_type": "markdown",
      "metadata": {
        "id": "view-in-github",
        "colab_type": "text"
      },
      "source": [
        "<a href=\"https://colab.research.google.com/github/Navjotkhatri/Productionization_of_ML_Systems_in_Travel_Industry/blob/main/REST_API_for_Flight_Price_Regression_Model.ipynb\" target=\"_parent\"><img src=\"https://colab.research.google.com/assets/colab-badge.svg\" alt=\"Open In Colab\"/></a>"
      ]
    },
    {
      "cell_type": "markdown",
      "source": [
        "# **2. REST API for Regression Model:**\n",
        "\n",
        "**Develop a REST API using Flask to serve the flight price prediction model, enabling real-time price predictions.**"
      ],
      "metadata": {
        "id": "lLZbbL5PJzjk"
      }
    },
    {
      "cell_type": "code",
      "source": [
        "!pip install --upgrade scikit-learn==1.3.2"
      ],
      "metadata": {
        "colab": {
          "base_uri": "https://localhost:8080/"
        },
        "id": "G4s6vOP6J5Jk",
        "outputId": "4daeea06-5f34-43f7-c06f-5087a5985d9b"
      },
      "execution_count": 1,
      "outputs": [
        {
          "output_type": "stream",
          "name": "stdout",
          "text": [
            "Requirement already satisfied: scikit-learn==1.3.2 in /usr/local/lib/python3.10/dist-packages (1.3.2)\n",
            "Requirement already satisfied: numpy<2.0,>=1.17.3 in /usr/local/lib/python3.10/dist-packages (from scikit-learn==1.3.2) (1.26.4)\n",
            "Requirement already satisfied: scipy>=1.5.0 in /usr/local/lib/python3.10/dist-packages (from scikit-learn==1.3.2) (1.13.1)\n",
            "Requirement already satisfied: joblib>=1.1.1 in /usr/local/lib/python3.10/dist-packages (from scikit-learn==1.3.2) (1.4.2)\n",
            "Requirement already satisfied: threadpoolctl>=2.0.0 in /usr/local/lib/python3.10/dist-packages (from scikit-learn==1.3.2) (3.5.0)\n"
          ]
        }
      ]
    },
    {
      "cell_type": "code",
      "source": [
        "!pip install flask-ngrok"
      ],
      "metadata": {
        "colab": {
          "base_uri": "https://localhost:8080/"
        },
        "id": "SgfNZ6zuF7Tl",
        "outputId": "6a903bb6-a0cf-452f-9a00-e82047ccee09"
      },
      "execution_count": 2,
      "outputs": [
        {
          "output_type": "stream",
          "name": "stdout",
          "text": [
            "Collecting flask-ngrok\n",
            "  Downloading flask_ngrok-0.0.25-py3-none-any.whl.metadata (1.8 kB)\n",
            "Requirement already satisfied: Flask>=0.8 in /usr/local/lib/python3.10/dist-packages (from flask-ngrok) (2.2.5)\n",
            "Requirement already satisfied: requests in /usr/local/lib/python3.10/dist-packages (from flask-ngrok) (2.32.3)\n",
            "Requirement already satisfied: Werkzeug>=2.2.2 in /usr/local/lib/python3.10/dist-packages (from Flask>=0.8->flask-ngrok) (3.0.3)\n",
            "Requirement already satisfied: Jinja2>=3.0 in /usr/local/lib/python3.10/dist-packages (from Flask>=0.8->flask-ngrok) (3.1.4)\n",
            "Requirement already satisfied: itsdangerous>=2.0 in /usr/local/lib/python3.10/dist-packages (from Flask>=0.8->flask-ngrok) (2.2.0)\n",
            "Requirement already satisfied: click>=8.0 in /usr/local/lib/python3.10/dist-packages (from Flask>=0.8->flask-ngrok) (8.1.7)\n",
            "Requirement already satisfied: charset-normalizer<4,>=2 in /usr/local/lib/python3.10/dist-packages (from requests->flask-ngrok) (3.3.2)\n",
            "Requirement already satisfied: idna<4,>=2.5 in /usr/local/lib/python3.10/dist-packages (from requests->flask-ngrok) (3.7)\n",
            "Requirement already satisfied: urllib3<3,>=1.21.1 in /usr/local/lib/python3.10/dist-packages (from requests->flask-ngrok) (2.0.7)\n",
            "Requirement already satisfied: certifi>=2017.4.17 in /usr/local/lib/python3.10/dist-packages (from requests->flask-ngrok) (2024.7.4)\n",
            "Requirement already satisfied: MarkupSafe>=2.0 in /usr/local/lib/python3.10/dist-packages (from Jinja2>=3.0->Flask>=0.8->flask-ngrok) (2.1.5)\n",
            "Downloading flask_ngrok-0.0.25-py3-none-any.whl (3.1 kB)\n",
            "Installing collected packages: flask-ngrok\n",
            "Successfully installed flask-ngrok-0.0.25\n"
          ]
        }
      ]
    },
    {
      "cell_type": "code",
      "source": [
        "!pip install Flask pyngrok\n"
      ],
      "metadata": {
        "colab": {
          "base_uri": "https://localhost:8080/"
        },
        "id": "pgAP11M-eJPY",
        "outputId": "72b5fc4e-805e-4211-846c-0546c9a62b9e"
      },
      "execution_count": 3,
      "outputs": [
        {
          "output_type": "stream",
          "name": "stdout",
          "text": [
            "Requirement already satisfied: Flask in /usr/local/lib/python3.10/dist-packages (2.2.5)\n",
            "Collecting pyngrok\n",
            "  Downloading pyngrok-7.2.0-py3-none-any.whl.metadata (7.4 kB)\n",
            "Requirement already satisfied: Werkzeug>=2.2.2 in /usr/local/lib/python3.10/dist-packages (from Flask) (3.0.3)\n",
            "Requirement already satisfied: Jinja2>=3.0 in /usr/local/lib/python3.10/dist-packages (from Flask) (3.1.4)\n",
            "Requirement already satisfied: itsdangerous>=2.0 in /usr/local/lib/python3.10/dist-packages (from Flask) (2.2.0)\n",
            "Requirement already satisfied: click>=8.0 in /usr/local/lib/python3.10/dist-packages (from Flask) (8.1.7)\n",
            "Requirement already satisfied: PyYAML>=5.1 in /usr/local/lib/python3.10/dist-packages (from pyngrok) (6.0.1)\n",
            "Requirement already satisfied: MarkupSafe>=2.0 in /usr/local/lib/python3.10/dist-packages (from Jinja2>=3.0->Flask) (2.1.5)\n",
            "Downloading pyngrok-7.2.0-py3-none-any.whl (22 kB)\n",
            "Installing collected packages: pyngrok\n",
            "Successfully installed pyngrok-7.2.0\n"
          ]
        }
      ]
    },
    {
      "cell_type": "code",
      "source": [
        "from flask import Flask, request, jsonify\n",
        "from pyngrok import ngrok\n",
        "import os\n",
        "import pickle"
      ],
      "metadata": {
        "id": "qSjieqJ-eNfI"
      },
      "execution_count": 4,
      "outputs": []
    },
    {
      "cell_type": "code",
      "source": [
        "import os\n",
        "import glob\n",
        "import pickle\n",
        "import numpy as np\n",
        "import pandas as pd\n",
        "from pyngrok import ngrok\n",
        "from datetime import datetime\n",
        "from google.colab import drive\n",
        "from flask_ngrok import run_with_ngrok\n",
        "from sklearn.preprocessing import StandardScaler\n",
        "from flask import Flask, render_template, request, jsonify"
      ],
      "metadata": {
        "id": "UDc0u-mXhYQ3"
      },
      "execution_count": 5,
      "outputs": []
    },
    {
      "cell_type": "code",
      "source": [
        "app = Flask(__name__)\n"
      ],
      "metadata": {
        "id": "u-SteACLeQxN"
      },
      "execution_count": 6,
      "outputs": []
    },
    {
      "cell_type": "code",
      "source": [
        "!ngrok authtoken \"2kEiDvlDvDmlSrjFdidw1UnLQmx_32guShAgCSJ9W3gqsYXPA\""
      ],
      "metadata": {
        "colab": {
          "base_uri": "https://localhost:8080/"
        },
        "id": "1o5RxuAGPBQm",
        "outputId": "85ceb741-757d-48cf-9f56-a91e8140a95d"
      },
      "execution_count": 7,
      "outputs": [
        {
          "output_type": "stream",
          "name": "stdout",
          "text": [
            "Authtoken saved to configuration file: /root/.config/ngrok/ngrok.yml\n"
          ]
        }
      ]
    },
    {
      "cell_type": "code",
      "source": [
        "def predict_price(input_data,model):\n",
        "    # Prepare the input data\n",
        "    #text_columns = ['from','to','']\n",
        "\n",
        "    # Initialize an empty DataFrame\n",
        "    df = pd.DataFrame([input_data])\n",
        "\n",
        "    # Encode text-based columns and create embeddings\n",
        "    for column in input_data:\n",
        "        df[column + '_embedding'] = df[column].apply(lambda text: model.encode(text))\n",
        "\n",
        "\n",
        "\n",
        "    # Make predictions using the trained Linear Regression model\n",
        "    y_pred = model.predict(df)\n",
        "\n",
        "    return y_pred[0]"
      ],
      "metadata": {
        "id": "qpTm5Q5whTL3"
      },
      "execution_count": null,
      "outputs": []
    },
    {
      "cell_type": "code",
      "source": [
        "!pip install scikit-learn\n",
        "\n",
        "import pandas as pd\n",
        "from sklearn.preprocessing import LabelEncoder\n",
        "\n",
        "def predict_price(input_data,model):\n",
        "    # Prepare the input data\n",
        "    text_columns = ['from','to','flightType','agency']\n",
        "    numerical_columns = ['month', 'speed', 'weekday_num', 'year']  # Identify numerical columns\n",
        "\n",
        "    # Initialize an empty DataFrame\n",
        "    df = pd.DataFrame([input_data])\n",
        "\n",
        "    # Access the best estimator from GridSearchCV\n",
        "    best_model = model.best_estimator_\n",
        "\n",
        "    # Encode text-based columns using LabelEncoder\n",
        "    for column in text_columns:\n",
        "        le = LabelEncoder()\n",
        "        df[column] = le.fit_transform(df[column])\n",
        "\n",
        "    # Convert numerical columns to appropriate data type (e.g., int)\n",
        "    for column in numerical_columns:\n",
        "        df[column] = df[column].astype(int)  # Convert to integer\n",
        "\n",
        "    y_q1 = best_model.predict(df) # Use best_model here\n",
        "\n",
        "    return y_q1[0]\n"
      ],
      "metadata": {
        "colab": {
          "base_uri": "https://localhost:8080/"
        },
        "id": "IvZrRLDFk9h8",
        "outputId": "2cc6281b-6b7e-4df5-a96b-50971e5d151c"
      },
      "execution_count": null,
      "outputs": [
        {
          "output_type": "stream",
          "name": "stdout",
          "text": [
            "Requirement already satisfied: scikit-learn in /usr/local/lib/python3.10/dist-packages (1.3.2)\n",
            "Requirement already satisfied: numpy<2.0,>=1.17.3 in /usr/local/lib/python3.10/dist-packages (from scikit-learn) (1.26.4)\n",
            "Requirement already satisfied: scipy>=1.5.0 in /usr/local/lib/python3.10/dist-packages (from scikit-learn) (1.13.1)\n",
            "Requirement already satisfied: joblib>=1.1.1 in /usr/local/lib/python3.10/dist-packages (from scikit-learn) (1.4.2)\n",
            "Requirement already satisfied: threadpoolctl>=2.0.0 in /usr/local/lib/python3.10/dist-packages (from scikit-learn) (3.5.0)\n"
          ]
        }
      ]
    },
    {
      "cell_type": "code",
      "source": [
        "import pandas as pd\n",
        "from sklearn.preprocessing import LabelEncoder, StandardScaler\n",
        "\n",
        "import pandas as pd\n",
        "\n",
        "import pandas as pd\n",
        "\n",
        "def predict_price1(input_data, model, label_encoder, scaler):\n",
        "    # Define columns that exist in the final model\n",
        "    text_columns = ['from', 'to', 'flightType', 'agency']\n",
        "    numerical_columns = ['month', 'speed', 'weekday_num', 'year']\n",
        "\n",
        "    # Convert input_data to DataFrame\n",
        "    df = pd.DataFrame([input_data])\n",
        "\n",
        "    # Access the best estimator from GridSearchCV\n",
        "    best_model = model.best_estimator_\n",
        "\n",
        "    # Encode text-based columns using LabelEncoder\n",
        "    for column in text_columns:\n",
        "        if column in df.columns:\n",
        "            df[column] = label_encoder[column].transform(df[column])\n",
        "\n",
        "    # Convert numerical columns to appropriate data type if they exist in the final DataFrame\n",
        "    for column in numerical_columns:\n",
        "        if column in df.columns:\n",
        "            df[column] = df[column].astype(float)  # Use float to avoid potential issues with conversion\n",
        "\n",
        "    # Scale numerical features using the provided scaler, only if the scaler is provided\n",
        "    if scaler is not None:\n",
        "        # Ensure all numerical columns are present before scaling\n",
        "        missing_cols = [col for col in numerical_columns if col in df.columns]\n",
        "        if missing_cols:\n",
        "            df[missing_cols] = scaler.transform(df[missing_cols])\n",
        "\n",
        "    # Make the prediction\n",
        "    prediction = best_model.predict(df)\n",
        "\n",
        "    return prediction[0]  # Assuming you want to return a single value\n",
        "\n",
        "\n",
        "\n"
      ],
      "metadata": {
        "id": "3hGxAKYB2O0z"
      },
      "execution_count": 8,
      "outputs": []
    },
    {
      "cell_type": "code",
      "source": [
        "# Open the file in read-binary ('rb') mode\n",
        "with open('/content/drive/MyDrive/pickle/flight_price_prediction_regression.pkl', 'rb') as file:\n",
        "    model = pickle.load(file)"
      ],
      "metadata": {
        "id": "KIAHo69Tl8J2"
      },
      "execution_count": 9,
      "outputs": []
    },
    {
      "cell_type": "code",
      "source": [
        "# Open the file in read-binary ('rb') mode\n",
        "with open('/content/drive/MyDrive/pickle/label_encoders123.pkl', 'rb') as file:\n",
        "    label = pickle.load(file)"
      ],
      "metadata": {
        "id": "R0NHQ9xkEB0w"
      },
      "execution_count": 10,
      "outputs": []
    },
    {
      "cell_type": "code",
      "source": [
        "import joblib\n",
        "\n",
        "# Load the scaler\n",
        "scaler = joblib.load('/content/drive/MyDrive/pickle/scaler_model00.joblib')\n",
        "\n",
        "# Check the type to ensure it's a StandardScaler\n",
        "print(type(scaler))"
      ],
      "metadata": {
        "colab": {
          "base_uri": "https://localhost:8080/"
        },
        "id": "oqafHd_3mFPL",
        "outputId": "e9aad12a-c774-4a6a-82af-9c9b5638bfa5"
      },
      "execution_count": 11,
      "outputs": [
        {
          "output_type": "stream",
          "name": "stdout",
          "text": [
            "<class 'sklearn.preprocessing._data.StandardScaler'>\n"
          ]
        }
      ]
    },
    {
      "cell_type": "code",
      "source": [
        "print(type(std))"
      ],
      "metadata": {
        "colab": {
          "base_uri": "https://localhost:8080/"
        },
        "id": "laBi80kZk5kF",
        "outputId": "4e9d08e3-137b-4b77-efc5-bf365b0bcfee"
      },
      "execution_count": null,
      "outputs": [
        {
          "output_type": "stream",
          "name": "stdout",
          "text": [
            "<class 'numpy.ndarray'>\n"
          ]
        }
      ]
    },
    {
      "cell_type": "code",
      "source": [
        "input_date={\"agency\":\"CloudFy\",\"flightType\":\"economic\",\"from\":\"Recife (PE)\",\"month\":\"1\",\"speed\":\"300\",\"to\":\"Natal (RN)\",\"weekday_num\":\"4\",\"year\":\"2020\"}"
      ],
      "metadata": {
        "id": "5kXaisfblsZQ"
      },
      "execution_count": 12,
      "outputs": []
    },
    {
      "cell_type": "code",
      "source": [
        "predict_price1(input_date,model,label,scaler)"
      ],
      "metadata": {
        "colab": {
          "base_uri": "https://localhost:8080/"
        },
        "id": "kquwF813ln_C",
        "outputId": "9177fa47-ba4c-44a8-c42c-f2945ce24a3a"
      },
      "execution_count": 13,
      "outputs": [
        {
          "output_type": "execute_result",
          "data": {
            "text/plain": [
              "567.8864"
            ]
          },
          "metadata": {},
          "execution_count": 13
        }
      ]
    },
    {
      "cell_type": "code",
      "source": [
        "NGROK_AUTH_TOKEN = \"2kEiDvlDvDmlSrjFdidw1UnLQmx_32guShAgCSJ9W3gqsYXPA\"\n",
        "ngrok.set_auth_token(NGROK_AUTH_TOKEN)\n",
        "\n",
        "app = Flask(__name__)\n",
        "#run_with_ngrok(app)\n",
        "\n",
        "\n",
        "@app.route('/', methods=['GET', 'POST'])\n",
        "def predict():\n",
        "    return \"\"\"\n",
        "\n",
        "<!DOCTYPE html>\n",
        "<html>\n",
        "\n",
        "<head>\n",
        "    <title>Flight Price Prediction</title>\n",
        "    <style>\n",
        "        body {\n",
        "            font-family: 'Poppins', sans-serif;\n",
        "            background-color: #f9f9f9;\n",
        "            margin: 0;\n",
        "            padding: 0;\n",
        "        }\n",
        "\n",
        "        .container {\n",
        "            max-width: 800px;\n",
        "            margin: 0 auto;\n",
        "            padding: 40px;\n",
        "            background-color: #ffffff;\n",
        "            border-radius: 10px;\n",
        "            box-shadow: 0 10px 20px rgba(0, 0, 0, 0.1);\n",
        "            text-align: center;\n",
        "        }\n",
        "\n",
        "        h1 {\n",
        "            color: #39dde0;\n",
        "            font-size: 36px;\n",
        "            margin-bottom: 20px;\n",
        "        }\n",
        "\n",
        "        form {\n",
        "            text-align: left;\n",
        "        }\n",
        "\n",
        "        input[type=\"text\"],\n",
        "        input[type=\"number\"] {\n",
        "            width: 100%;\n",
        "            padding: 15px;\n",
        "            margin: 15px 0;\n",
        "            border: none;\n",
        "            border-bottom: 2px solid #39dde0;\n",
        "            font-size: 18px;\n",
        "            background-color: transparent;\n",
        "            color: #39dde0;\n",
        "            transition: border-bottom 0.3s ease;\n",
        "        }\n",
        "\n",
        "        input[type=\"text\"]:focus,\n",
        "        input[type=\"number\"]:focus {\n",
        "            border-bottom: 2px solid #39dde0;\n",
        "            outline: none;\n",
        "        }\n",
        "\n",
        "        input[type=\"radio\"] {\n",
        "            margin-right: 10px;\n",
        "        }\n",
        "\n",
        "        input[type=\"submit\"] {\n",
        "            background-color: #39dde0;\n",
        "            color: #fff;\n",
        "            padding: 15px 30px;\n",
        "            border: none;\n",
        "            border-radius: 5px;\n",
        "            cursor: pointer;\n",
        "            font-size: 20px;\n",
        "            transition: background-color 0.3s ease;\n",
        "        }\n",
        "\n",
        "        input[type=\"submit\"]:hover {\n",
        "            background-color: #39dde0;\n",
        "        }\n",
        "\n",
        "        p#prediction {\n",
        "            margin-top: 20px;\n",
        "            font-size: 24px;\n",
        "            color: #39dde0;\n",
        "        }\n",
        "    </style>\n",
        "</head>\n",
        "\n",
        "<body>\n",
        "    <div class=\"container\">\n",
        "        <h1>Flight Price Prediction</h1>\n",
        "        <hr style=\"border: 1px solid #39dde0; width: 80%; margin: 20px auto;\">\n",
        "        <form action=\"/predict\" method=\"POST\">\n",
        "\n",
        "            <label>Departure City:</label><br><br>\n",
        "\n",
        "\n",
        "            <input type=\"radio\" name=\"From\" value=\"Aracaju (SE)\">Aracaju (SE)<br>\n",
        "            <input type=\"radio\" name=\"From\" value=\"Brasilia (DF)\">Brasilia (DF)<br>\n",
        "            <input type=\"radio\" name=\"From\" value=\"Campo Grande (MS)\">Campo Grande (MS)<br>\n",
        "            <input type=\"radio\" name=\"From\" value=\"Florianopolis (SC)\">Florianopolis (SC)<br>\n",
        "            <input type=\"radio\" name=\"From\" value=\"Natal (RN)\">Natal (RN)<br>\n",
        "            <input type=\"radio\" name=\"From\" value=\"Recife (PE)\">Recife (PE)<br>\n",
        "            <input type=\"radio\" name=\"From\" value=\"Rio de Janeiro (RJ)\">Rio de Janeiro (RJ)<br>\n",
        "            <input type=\"radio\" name=\"From\" value=\"Salvador (BH)\">Salvador (BH)<br>\n",
        "            <input type=\"radio\" name=\"From\" value=\"Sao Paulo (SP)\">Sao Paulo (SP)<br><br>\n",
        "\n",
        "            <hr style=\"border: 1px solid #39dde0; width: 100%; margin: 20px auto;\">\n",
        "\n",
        "            <label>Destination City:</label><br><br>\n",
        "\n",
        "            <input type=\"radio\" name=\"To\" value=\"Aracaju (SE)\">Aracaju (SE)<br>\n",
        "            <input type=\"radio\" name=\"To\" value=\"Brasilia (DF)\">Brasilia (DF)<br>\n",
        "            <input type=\"radio\" name=\"To\" value=\"Campo Grande (MS)\">Campo Grande (MS)<br>\n",
        "            <input type=\"radio\" name=\"To\" value=\"Florianopolis (SC)\">Florianopolis (SC)<br>\n",
        "            <input type=\"radio\" name=\"To\" value=\"Natal (RN)\">Natal (RN)<br>\n",
        "            <input type=\"radio\" name=\"To\" value=\"Recife (PE)\">Recife (PE)<br>\n",
        "            <input type=\"radio\" name=\"To\" value=\"Rio de Janeiro (RJ)\">Rio de Janeiro (RJ)<br>\n",
        "            <input type=\"radio\" name=\"To\" value=\"Salvador (BH)\">Salvador (BH)<br>\n",
        "            <input type=\"radio\" name=\"To\" value=\"Sao Paulo (SP)\">Sao Paulo (SP)<br><br>\n",
        "\n",
        "            <hr style=\"border: 1px solid #39dde0; width: 100%; margin: 20px auto;\">\n",
        "\n",
        "            <label>Flight Type:</label><br><br>\n",
        "\n",
        "            <input type=\"radio\" name=\"flightType\" value=\"economic\"> Economic<br>\n",
        "            <input type=\"radio\" name=\"flightType\" value=\"firstClass\"> FirstClass<br>\n",
        "            <input type=\"radio\" name=\"flightType\" value=\"premium\"> Premium<br><br>\n",
        "\n",
        "            <hr style=\"border: 1px solid #39dde0; width: 100%; margin: 20px auto;\">\n",
        "\n",
        "\n",
        "            <label>Agency:</label><br><br>\n",
        "\n",
        "\n",
        "            <input type=\"radio\" name=\"agency\" value=\"CloudFy\"> CloudFy<br>\n",
        "            <input type=\"radio\" name=\"agency\" value=\"FlyingDrops\"> FlyingDrops<br>\n",
        "            <input type=\"radio\" name=\"agency\" value=\"Rainbow\"> Rainbow<br><br>\n",
        "\n",
        "            <hr style=\"border: 1px solid #39dde0; width: 100%; margin: 20px auto;\">\n",
        "\n",
        "            <label for=\"weekday_num\">Weekday (0=Sunday, 6=Saturday):</label>\n",
        "            <input type=\"number\" name=\"weekday_num\" min=\"0\" max=\"6\" placeholder=\"Day of the week\"><br>\n",
        "\n",
        "            <label for=\"month\">Month:</label>\n",
        "            <input type=\"number\" name=\"month\" min=\"1\" max=\"12\" placeholder=\"Month\"><br>\n",
        "\n",
        "            <label for=\"year\">Year:</label>\n",
        "            <input type=\"number\" name=\"year\" min=\"2019\" max=\"2123\" placeholder=\"Year\"><br>\n",
        "\n",
        "            <label for=\"speed\">Speed (km/h):</label>\n",
        "            <input type=\"number\" name=\"speed\" placeholder=\"Speed\"><br><br>\n",
        "\n",
        "            <input type=\"submit\" value=\"Predict\">\n",
        "        </form>\n",
        "        <p id=\"prediction\"></p>\n",
        "    </div>\n",
        "</body>\n",
        "\n",
        "</html>\n",
        "\n",
        "\n",
        "    \"\"\"\n",
        "\n",
        "@app.route('/predict', methods=['POST'])\n",
        "def index():\n",
        "    if request.method == 'POST':\n",
        "        # Get input data from the form\n",
        "        From = request.form.get('From')\n",
        "        To = request.form.get('To')\n",
        "        flighttype = request.form.get('flightType')\n",
        "        agency = request.form.get('agency')\n",
        "        weekday_num = request.form.get('weekday_num')\n",
        "        month = request.form.get('month')\n",
        "        year = request.form.get('year')\n",
        "        speed = request.form.get('speed')\n",
        "\n",
        "        # Create a dictionary to store the input data\n",
        "        data = {\n",
        "            'from': From,\n",
        "            'to': To,\n",
        "            'flightType': flighttype,\n",
        "            'agency': agency,\n",
        "            'weekday_num': weekday_num,\n",
        "            'month': month,\n",
        "            'year': year,\n",
        "            'speed': speed\n",
        "        }\n",
        "\n",
        "        # Perform prediction using the custom_input dictionary\n",
        "        prediction = predict_price1(data,model,label,scaler)\n",
        "        prediction = str(prediction)\n",
        "\n",
        "        return jsonify({'Your Flight Price($) will be around': prediction})\n",
        "\n",
        "# Open a tunnel on the default port 5000\n",
        "public_url = ngrok.connect(5000)\n",
        "print(f\"Your Flask app is running on {public_url}\")\n",
        "\n",
        "if __name__ == \"__main__\":\n",
        "    app.run()"
      ],
      "metadata": {
        "colab": {
          "base_uri": "https://localhost:8080/"
        },
        "id": "hH8CvpDvfI3H",
        "outputId": "b4532c91-b224-45f0-8808-2de4af0d5267"
      },
      "execution_count": 21,
      "outputs": [
        {
          "output_type": "stream",
          "name": "stdout",
          "text": [
            "Your Flask app is running on NgrokTunnel: \"https://b0e7-35-185-139-110.ngrok-free.app\" -> \"http://localhost:5000\"\n",
            " * Serving Flask app '__main__'\n",
            " * Debug mode: off\n"
          ]
        },
        {
          "output_type": "stream",
          "name": "stderr",
          "text": [
            "INFO:werkzeug:\u001b[31m\u001b[1mWARNING: This is a development server. Do not use it in a production deployment. Use a production WSGI server instead.\u001b[0m\n",
            " * Running on http://127.0.0.1:5000\n",
            "INFO:werkzeug:\u001b[33mPress CTRL+C to quit\u001b[0m\n",
            "INFO:werkzeug:127.0.0.1 - - [09/Aug/2024 07:36:55] \"GET / HTTP/1.1\" 200 -\n",
            "INFO:werkzeug:127.0.0.1 - - [09/Aug/2024 07:36:56] \"\u001b[33mGET /favicon.ico HTTP/1.1\u001b[0m\" 404 -\n"
          ]
        }
      ]
    },
    {
      "cell_type": "code",
      "source": [],
      "metadata": {
        "id": "1otkmupTnCGO"
      },
      "execution_count": null,
      "outputs": []
    },
    {
      "cell_type": "markdown",
      "source": [
        "![Screenshot 2024-08-09 130932.png](data:image/png;base64,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)"
      ],
      "metadata": {
        "id": "b128eEnNFE2h"
      }
    }
  ]
}