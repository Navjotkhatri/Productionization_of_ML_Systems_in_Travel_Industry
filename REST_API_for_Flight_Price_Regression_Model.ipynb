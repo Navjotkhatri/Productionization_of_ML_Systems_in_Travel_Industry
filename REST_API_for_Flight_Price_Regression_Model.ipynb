{
  "nbformat": 4,
  "nbformat_minor": 0,
  "metadata": {
    "colab": {
      "provenance": [],
      "mount_file_id": "1h75JO4jtrCMGunTmbKMlN-Jpz2-lCaAi",
      "authorship_tag": "ABX9TyNnXb8v9GMltl17ep8v8rYL",
      "include_colab_link": true
    },
    "kernelspec": {
      "name": "python3",
      "display_name": "Python 3"
    },
    "language_info": {
      "name": "python"
    }
  },
  "cells": [
    {
      "cell_type": "markdown",
      "metadata": {
        "id": "view-in-github",
        "colab_type": "text"
      },
      "source": [
        "<a href=\"https://colab.research.google.com/github/Navjotkhatri/Productionization_of_ML_Systems_in_Travel_Industry/blob/main/REST_API_for_Flight_Price_Regression_Model.ipynb\" target=\"_parent\"><img src=\"https://colab.research.google.com/assets/colab-badge.svg\" alt=\"Open In Colab\"/></a>"
      ]
    },
    {
      "cell_type": "markdown",
      "source": [
        "# **2. REST API for Regression Model:**\n",
        "\n",
        "**Develop a REST API using Flask to serve the flight price prediction model, enabling real-time price predictions.**"
      ],
      "metadata": {
        "id": "lLZbbL5PJzjk"
      }
    },
    {
      "cell_type": "code",
      "source": [
        "!pip install Flask pyngrok\n"
      ],
      "metadata": {
        "colab": {
          "base_uri": "https://localhost:8080/"
        },
        "id": "pgAP11M-eJPY",
        "outputId": "303697f1-6277-4758-c34d-d75dfe9a0abe"
      },
      "execution_count": 51,
      "outputs": [
        {
          "output_type": "stream",
          "name": "stdout",
          "text": [
            "Requirement already satisfied: Flask in /usr/local/lib/python3.10/dist-packages (2.2.5)\n",
            "Requirement already satisfied: pyngrok in /usr/local/lib/python3.10/dist-packages (7.2.0)\n",
            "Requirement already satisfied: Werkzeug>=2.2.2 in /usr/local/lib/python3.10/dist-packages (from Flask) (3.0.3)\n",
            "Requirement already satisfied: Jinja2>=3.0 in /usr/local/lib/python3.10/dist-packages (from Flask) (3.1.4)\n",
            "Requirement already satisfied: itsdangerous>=2.0 in /usr/local/lib/python3.10/dist-packages (from Flask) (2.2.0)\n",
            "Requirement already satisfied: click>=8.0 in /usr/local/lib/python3.10/dist-packages (from Flask) (8.1.7)\n",
            "Requirement already satisfied: PyYAML>=5.1 in /usr/local/lib/python3.10/dist-packages (from pyngrok) (6.0.1)\n",
            "Requirement already satisfied: MarkupSafe>=2.0 in /usr/local/lib/python3.10/dist-packages (from Jinja2>=3.0->Flask) (2.1.5)\n"
          ]
        }
      ]
    },
    {
      "cell_type": "code",
      "source": [
        "from flask import Flask, request, jsonify\n",
        "from pyngrok import ngrok\n",
        "import os\n",
        "import pickle"
      ],
      "metadata": {
        "id": "qSjieqJ-eNfI"
      },
      "execution_count": 61,
      "outputs": []
    },
    {
      "cell_type": "code",
      "source": [
        "import os\n",
        "import glob\n",
        "import pickle\n",
        "import numpy as np\n",
        "import pandas as pd\n",
        "from pyngrok import ngrok\n",
        "from datetime import datetime\n",
        "from google.colab import drive\n",
        "from flask_ngrok import run_with_ngrok\n",
        "from sklearn.preprocessing import StandardScaler\n",
        "from flask import Flask, render_template, request, jsonify"
      ],
      "metadata": {
        "id": "UDc0u-mXhYQ3"
      },
      "execution_count": 62,
      "outputs": []
    },
    {
      "cell_type": "code",
      "source": [
        "app = Flask(__name__)\n"
      ],
      "metadata": {
        "id": "u-SteACLeQxN"
      },
      "execution_count": 53,
      "outputs": []
    },
    {
      "cell_type": "code",
      "source": [
        "@app.route('/', methods=['GET'])\n",
        "def home():\n",
        "    return \"Hello, this is your Flask app running on ngrok!\"\n"
      ],
      "metadata": {
        "id": "BpPJI5HKeXgF"
      },
      "execution_count": 54,
      "outputs": []
    },
    {
      "cell_type": "code",
      "source": [
        "# Set your Ngrok auth token\n",
        "NGROK_AUTH_TOKEN = \"2kEiDvlDvDmlSrjFdidw1UnLQmx_32guShAgCSJ9W3gqsYXPA\"\n",
        "ngrok.set_auth_token(NGROK_AUTH_TOKEN)\n",
        "\n",
        "# Open a tunnel on the default port 5000\n",
        "public_url = ngrok.connect(5000)\n",
        "print(f\"Your Flask app is running on {public_url}\")\n",
        "\n",
        "# Start the Flask app\n",
        "app.run()\n"
      ],
      "metadata": {
        "colab": {
          "base_uri": "https://localhost:8080/"
        },
        "id": "P6ZNzzdLebar",
        "outputId": "94d14008-19ed-4b04-e6ce-28d1da279b14"
      },
      "execution_count": 56,
      "outputs": [
        {
          "output_type": "stream",
          "name": "stdout",
          "text": [
            "Your Flask app is running on NgrokTunnel: \"https://7131-35-243-249-27.ngrok-free.app\" -> \"http://localhost:5000\"\n",
            " * Serving Flask app '__main__'\n",
            " * Debug mode: off\n"
          ]
        },
        {
          "output_type": "stream",
          "name": "stderr",
          "text": [
            "INFO:werkzeug:\u001b[31m\u001b[1mWARNING: This is a development server. Do not use it in a production deployment. Use a production WSGI server instead.\u001b[0m\n",
            " * Running on http://127.0.0.1:5000\n",
            "INFO:werkzeug:\u001b[33mPress CTRL+C to quit\u001b[0m\n",
            "INFO:werkzeug:127.0.0.1 - - [08/Aug/2024 10:14:16] \"GET / HTTP/1.1\" 200 -\n",
            "INFO:werkzeug:127.0.0.1 - - [08/Aug/2024 10:14:16] \"\u001b[33mGET /favicon.ico HTTP/1.1\u001b[0m\" 404 -\n"
          ]
        }
      ]
    },
    {
      "cell_type": "code",
      "source": [
        "!ngrok authtoken \"2kEiDvlDvDmlSrjFdidw1UnLQmx_32guShAgCSJ9W3gqsYXPA\""
      ],
      "metadata": {
        "colab": {
          "base_uri": "https://localhost:8080/"
        },
        "id": "1o5RxuAGPBQm",
        "outputId": "92fce576-5ef9-4ef2-9b38-1f236a7db910"
      },
      "execution_count": null,
      "outputs": [
        {
          "output_type": "stream",
          "name": "stdout",
          "text": [
            "Authtoken saved to configuration file: /root/.config/ngrok/ngrok.yml\n"
          ]
        }
      ]
    },
    {
      "cell_type": "code",
      "source": [
        "def predict_price(input_data,model):\n",
        "    # Prepare the input data\n",
        "    #text_columns = ['from','to','']\n",
        "\n",
        "    # Initialize an empty DataFrame\n",
        "    df = pd.DataFrame([input_data])\n",
        "\n",
        "    # Encode text-based columns and create embeddings\n",
        "    for column in input_data:\n",
        "        df[column + '_embedding'] = df[column].apply(lambda text: model.encode(text))\n",
        "\n",
        "\n",
        "\n",
        "    # Make predictions using the trained Linear Regression model\n",
        "    y_pred = model.predict(df)\n",
        "\n",
        "    return y_pred[0]"
      ],
      "metadata": {
        "id": "qpTm5Q5whTL3"
      },
      "execution_count": 63,
      "outputs": []
    },
    {
      "cell_type": "code",
      "source": [
        "!pip install scikit-learn\n",
        "\n",
        "import pandas as pd\n",
        "from sklearn.preprocessing import LabelEncoder\n",
        "\n",
        "def predict_price(input_data,model):\n",
        "    # Prepare the input data\n",
        "    text_columns = ['from','to','flightType','agency']\n",
        "    numerical_columns = ['month', 'speed', 'weekday_num', 'year']  # Identify numerical columns\n",
        "\n",
        "    # Initialize an empty DataFrame\n",
        "    df = pd.DataFrame([input_data])\n",
        "\n",
        "    # Access the best estimator from GridSearchCV\n",
        "    best_model = model.best_estimator_\n",
        "\n",
        "    # Encode text-based columns using LabelEncoder\n",
        "    for column in text_columns:\n",
        "        le = LabelEncoder()\n",
        "        df[column] = le.fit_transform(df[column])\n",
        "\n",
        "    # Convert numerical columns to appropriate data type (e.g., int)\n",
        "    for column in numerical_columns:\n",
        "        df[column] = df[column].astype(int)  # Convert to integer\n",
        "\n",
        "    y_q1 = best_model.predict(df) # Use best_model here\n",
        "\n",
        "    return y_q1[0]\n"
      ],
      "metadata": {
        "colab": {
          "base_uri": "https://localhost:8080/"
        },
        "id": "IvZrRLDFk9h8",
        "outputId": "2cc6281b-6b7e-4df5-a96b-50971e5d151c"
      },
      "execution_count": 87,
      "outputs": [
        {
          "output_type": "stream",
          "name": "stdout",
          "text": [
            "Requirement already satisfied: scikit-learn in /usr/local/lib/python3.10/dist-packages (1.3.2)\n",
            "Requirement already satisfied: numpy<2.0,>=1.17.3 in /usr/local/lib/python3.10/dist-packages (from scikit-learn) (1.26.4)\n",
            "Requirement already satisfied: scipy>=1.5.0 in /usr/local/lib/python3.10/dist-packages (from scikit-learn) (1.13.1)\n",
            "Requirement already satisfied: joblib>=1.1.1 in /usr/local/lib/python3.10/dist-packages (from scikit-learn) (1.4.2)\n",
            "Requirement already satisfied: threadpoolctl>=2.0.0 in /usr/local/lib/python3.10/dist-packages (from scikit-learn) (3.5.0)\n"
          ]
        }
      ]
    },
    {
      "cell_type": "code",
      "source": [
        "input_date={\"agency\":\"FlyingDrops\",\"flightType\":\"firstClass\",\"from\":\"Aracaju (SE)\",\"month\":\"10\",\"speed\":\"300\",\"to\":\"Brasilia (DF)\",\"weekday_num\":\"0\",\"year\":\"2023\"}"
      ],
      "metadata": {
        "id": "5kXaisfblsZQ"
      },
      "execution_count": 74,
      "outputs": []
    },
    {
      "cell_type": "code",
      "source": [
        "# Open the file in read-binary ('rb') mode\n",
        "with open('/content/flight_price_prediction_regression.pkl', 'rb') as file:\n",
        "    model = pickle.load(file)"
      ],
      "metadata": {
        "id": "KIAHo69Tl8J2"
      },
      "execution_count": 75,
      "outputs": []
    },
    {
      "cell_type": "code",
      "source": [
        "predict_price(input_date,model)"
      ],
      "metadata": {
        "colab": {
          "base_uri": "https://localhost:8080/"
        },
        "id": "kquwF813ln_C",
        "outputId": "d6f70606-c57c-4cf3-927c-40f37a4439ed"
      },
      "execution_count": 88,
      "outputs": [
        {
          "output_type": "execute_result",
          "data": {
            "text/plain": [
              "1401.4756"
            ]
          },
          "metadata": {},
          "execution_count": 88
        }
      ]
    },
    {
      "cell_type": "code",
      "source": [
        "NGROK_AUTH_TOKEN = \"2kEiDvlDvDmlSrjFdidw1UnLQmx_32guShAgCSJ9W3gqsYXPA\"\n",
        "ngrok.set_auth_token(NGROK_AUTH_TOKEN)\n",
        "\n",
        "app = Flask(__name__)\n",
        "#run_with_ngrok(app)\n",
        "\n",
        "# Open the file in read-binary ('rb') mode\n",
        "with open('/content/flight_price_prediction_regression.pkl', 'rb') as file:\n",
        "    model = pickle.load(file)\n",
        "\n",
        "@app.route('/', methods=['GET', 'POST'])\n",
        "def predict():\n",
        "    return \"\"\"\n",
        "\n",
        "<!DOCTYPE html>\n",
        "<html>\n",
        "\n",
        "<head>\n",
        "    <title>Flight Price Prediction</title>\n",
        "    <style>\n",
        "        body {\n",
        "            font-family: 'Poppins', sans-serif;\n",
        "            background-color: #f9f9f9;\n",
        "            margin: 0;\n",
        "            padding: 0;\n",
        "        }\n",
        "\n",
        "        .container {\n",
        "            max-width: 800px;\n",
        "            margin: 0 auto;\n",
        "            padding: 40px;\n",
        "            background-color: #ffffff;\n",
        "            border-radius: 10px;\n",
        "            box-shadow: 0 10px 20px rgba(0, 0, 0, 0.1);\n",
        "            text-align: center;\n",
        "        }\n",
        "\n",
        "        h1 {\n",
        "            color: #184344;\n",
        "            font-size: 36px;\n",
        "            margin-bottom: 20px;\n",
        "        }\n",
        "\n",
        "        form {\n",
        "            text-align: left;\n",
        "        }\n",
        "\n",
        "        input[type=\"text\"],\n",
        "        input[type=\"number\"] {\n",
        "            width: 100%;\n",
        "            padding: 15px;\n",
        "            margin: 15px 0;\n",
        "            border: none;\n",
        "            border-bottom: 2px solid #184344;\n",
        "            font-size: 18px;\n",
        "            background-color: transparent;\n",
        "            color: #333;\n",
        "            transition: border-bottom 0.3s ease;\n",
        "        }\n",
        "\n",
        "        input[type=\"text\"]:focus,\n",
        "        input[type=\"number\"]:focus {\n",
        "            border-bottom: 2px solid #184344;\n",
        "            outline: none;\n",
        "        }\n",
        "\n",
        "        input[type=\"checkbox\"] {\n",
        "            margin-right: 10px;\n",
        "        }\n",
        "\n",
        "        input[type=\"submit\"] {\n",
        "            background-color: #184344;\n",
        "            color: #fff;\n",
        "            padding: 15px 30px;\n",
        "            border: none;\n",
        "            border-radius: 5px;\n",
        "            cursor: pointer;\n",
        "            font-size: 20px;\n",
        "            transition: background-color 0.3s ease;\n",
        "        }\n",
        "\n",
        "        input[type=\"submit\"]:hover {\n",
        "            background-color: #184344;\n",
        "        }\n",
        "\n",
        "        p#prediction {\n",
        "            margin-top: 20px;\n",
        "            font-size: 24px;\n",
        "            color: #184344;\n",
        "        }\n",
        "    </style>\n",
        "</head>\n",
        "\n",
        "<body>\n",
        "    <div class=\"container\">\n",
        "        <h1>Flight Price Prediction</h1>\n",
        "        <form action=\"/predict\" method=\"POST\">\n",
        "\n",
        "            <label>Departure City:</label><br><br>\n",
        "\n",
        "            <input type=\"checkbox\" name=\"From\" value=\"Aracaju (SE)\">Aracaju (SE)<br>\n",
        "            <input type=\"checkbox\" name=\"From\" value=\"Brasilia (DF)\">Brasilia (DF)<br>\n",
        "            <input type=\"checkbox\" name=\"From\" value=\"Campo Grande (MS)\">Campo Grande (MS)<br>\n",
        "            <input type=\"checkbox\" name=\"From\" value=\"Florianopolis (SC)\">Florianopolis (SC)<br>\n",
        "            <input type=\"checkbox\" name=\"From\" value=\"Natal (RN)\">Natal (RN)<br>\n",
        "            <input type=\"checkbox\" name=\"From\" value=\"Recife (PE)\">Recife (PE)<br>\n",
        "            <input type=\"checkbox\" name=\"From\" value=\"Rio de Janeiro (RJ)\">Rio de Janeiro (RJ)<br>\n",
        "            <input type=\"checkbox\" name=\"From\" value=\"Salvador (BH)\">Salvador (BH)<br>\n",
        "            <input type=\"checkbox\" name=\"From\" value=\"Sao Paulo (SP)\">Sao Paulo (SP)<br><br>\n",
        "\n",
        "\n",
        "\n",
        "            <label>Destination City:</label><br><br>\n",
        "\n",
        "            <input type=\"checkbox\" name=\"To\" value=\"Aracaju (SE)\">Aracaju (SE)<br>\n",
        "            <input type=\"checkbox\" name=\"To\" value=\"Brasilia (DF)\">Brasilia (DF)<br>\n",
        "            <input type=\"checkbox\" name=\"To\" value=\"Campo Grande (MS)\">Campo Grande (MS)<br>\n",
        "            <input type=\"checkbox\" name=\"To\" value=\"Florianopolis (SC)\">Florianopolis (SC)<br>\n",
        "            <input type=\"checkbox\" name=\"To\" value=\"Natal (RN)\">Natal (RN)<br>\n",
        "            <input type=\"checkbox\" name=\"To\" value=\"Recife (PE)\">Recife (PE)<br>\n",
        "            <input type=\"checkbox\" name=\"To\" value=\"Rio de Janeiro (RJ)\">Rio de Janeiro (RJ)<br>\n",
        "            <input type=\"checkbox\" name=\"To\" value=\"Salvador (BH)\">Salvador (BH)<br>\n",
        "            <input type=\"checkbox\" name=\"To\" value=\"Sao Paulo (SP)\">Sao Paulo (SP)<br><br>\n",
        "\n",
        "            <label>Flight Type:</label><br><br>\n",
        "\n",
        "            <input type=\"checkbox\" name=\"flightType\" value=\"economic\"> Economic<br>\n",
        "            <input type=\"checkbox\" name=\"flightType\" value=\"firstClass\"> FirstClass<br>\n",
        "            <input type=\"checkbox\" name=\"flightType\" value=\"premium\"> Premium<br><br>\n",
        "\n",
        "\n",
        "            <label>Agency:</label><br><br>\n",
        "\n",
        "\n",
        "            <input type=\"checkbox\" name=\"agency\" value=\"CloudFy\"> CloudFy<br>\n",
        "            <input type=\"checkbox\" name=\"agency\" value=\"FlyingDrops\"> FlyingDrops<br>\n",
        "            <input type=\"checkbox\" name=\"agency\" value=\"Rainbow\"> Rainbow<br><br>\n",
        "\n",
        "\n",
        "            <label for=\"weekday_num\">Weekday (0=Sunday, 6=Saturday):</label>\n",
        "            <input type=\"number\" name=\"weekday_num\" min=\"0\" max=\"6\" placeholder=\"Day of the week\"><br>\n",
        "\n",
        "            <label for=\"month\">Month:</label>\n",
        "            <input type=\"number\" name=\"month\" min=\"1\" max=\"12\" placeholder=\"Month\"><br>\n",
        "\n",
        "            <label for=\"year\">Year:</label>\n",
        "            <input type=\"number\" name=\"year\" min=\"2023\" max=\"2123\" placeholder=\"Year\"><br>\n",
        "\n",
        "            <label for=\"speed\">Speed (km/h):</label>\n",
        "            <input type=\"number\" name=\"speed\" placeholder=\"Speed\"><br><br>\n",
        "\n",
        "            <input type=\"submit\" value=\"Predict\">\n",
        "        </form>\n",
        "        <p id=\"prediction\"></p>\n",
        "    </div>\n",
        "</body>\n",
        "\n",
        "</html>\n",
        "\n",
        "\n",
        "    \"\"\"\n",
        "\n",
        "@app.route('/predict', methods=['POST'])\n",
        "def index():\n",
        "    if request.method == 'POST':\n",
        "        # Get input data from the form\n",
        "        From = request.form.get('From')\n",
        "        To = request.form.get('To')\n",
        "        flighttype = request.form.get('flightType')\n",
        "        agency = request.form.get('agency')\n",
        "        weekday_num = request.form.get('weekday_num')\n",
        "        month = request.form.get('month')\n",
        "        year = request.form.get('year')\n",
        "        speed = request.form.get('speed')\n",
        "\n",
        "        # Create a dictionary to store the input data\n",
        "        data = {\n",
        "            'from': From,\n",
        "            'to': To,\n",
        "            'flightType': flighttype,\n",
        "            'agency': agency,\n",
        "            'weekday_num': weekday_num,\n",
        "            'month': month,\n",
        "            'year': year,\n",
        "            'speed': speed\n",
        "        }\n",
        "\n",
        "        # Perform prediction using the custom_input dictionary\n",
        "        prediction = predict_price(data,model)//10\n",
        "        prediction = str(prediction)[-7:]\n",
        "\n",
        "        return jsonify({'prediction': prediction})\n",
        "\n",
        "# Open a tunnel on the default port 5000\n",
        "public_url = ngrok.connect(5000)\n",
        "print(f\"Your Flask app is running on {public_url}\")\n",
        "\n",
        "if __name__ == \"__main__\":\n",
        "    app.run()"
      ],
      "metadata": {
        "colab": {
          "base_uri": "https://localhost:8080/"
        },
        "id": "hH8CvpDvfI3H",
        "outputId": "e18225e2-0163-4591-9380-abab525728ef"
      },
      "execution_count": 90,
      "outputs": [
        {
          "output_type": "stream",
          "name": "stdout",
          "text": [
            "Your Flask app is running on NgrokTunnel: \"https://5b92-35-243-249-27.ngrok-free.app\" -> \"http://localhost:5000\"\n",
            " * Serving Flask app '__main__'\n",
            " * Debug mode: off\n"
          ]
        },
        {
          "output_type": "stream",
          "name": "stderr",
          "text": [
            "INFO:werkzeug:\u001b[31m\u001b[1mWARNING: This is a development server. Do not use it in a production deployment. Use a production WSGI server instead.\u001b[0m\n",
            " * Running on http://127.0.0.1:5000\n",
            "INFO:werkzeug:\u001b[33mPress CTRL+C to quit\u001b[0m\n",
            "INFO:werkzeug:127.0.0.1 - - [08/Aug/2024 10:55:30] \"GET / HTTP/1.1\" 200 -\n",
            "INFO:werkzeug:127.0.0.1 - - [08/Aug/2024 10:55:31] \"\u001b[33mGET /favicon.ico HTTP/1.1\u001b[0m\" 404 -\n",
            "INFO:werkzeug:127.0.0.1 - - [08/Aug/2024 10:55:52] \"POST /predict HTTP/1.1\" 200 -\n",
            "INFO:werkzeug:127.0.0.1 - - [08/Aug/2024 10:56:14] \"GET / HTTP/1.1\" 200 -\n",
            "INFO:werkzeug:127.0.0.1 - - [08/Aug/2024 10:56:38] \"POST /predict HTTP/1.1\" 200 -\n"
          ]
        }
      ]
    }
  ]
}