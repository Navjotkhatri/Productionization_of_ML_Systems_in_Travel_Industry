{
  "nbformat": 4,
  "nbformat_minor": 0,
  "metadata": {
    "colab": {
      "provenance": [],
      "mount_file_id": "1h75JO4jtrCMGunTmbKMlN-Jpz2-lCaAi",
      "authorship_tag": "ABX9TyOAZNNtE9F/hB/mXDL3eulg",
      "include_colab_link": true
    },
    "kernelspec": {
      "name": "python3",
      "display_name": "Python 3"
    },
    "language_info": {
      "name": "python"
    }
  },
  "cells": [
    {
      "cell_type": "markdown",
      "metadata": {
        "id": "view-in-github",
        "colab_type": "text"
      },
      "source": [
        "<a href=\"https://colab.research.google.com/github/Navjotkhatri/Productionization_of_ML_Systems_in_Travel_Industry/blob/main/REST_API_for_Flight_Price_Regression_Model.ipynb\" target=\"_parent\"><img src=\"https://colab.research.google.com/assets/colab-badge.svg\" alt=\"Open In Colab\"/></a>"
      ]
    },
    {
      "cell_type": "markdown",
      "source": [
        "# **2. REST API for Regression Model:**\n",
        "\n",
        "**Develop a REST API using Flask to serve the flight price prediction model, enabling real-time price predictions.**"
      ],
      "metadata": {
        "id": "lLZbbL5PJzjk"
      }
    },
    {
      "cell_type": "code",
      "source": [
        "from flask import Flask\n"
      ],
      "metadata": {
        "id": "fFeZqFbtduQq"
      },
      "execution_count": 1,
      "outputs": []
    },
    {
      "cell_type": "code",
      "source": [
        "app = Flask(__name__)"
      ],
      "metadata": {
        "id": "u6-XQnbHdwvn"
      },
      "execution_count": 2,
      "outputs": []
    },
    {
      "cell_type": "code",
      "source": [
        "!pip install flask_ngrok pyngrok sentence-transformers"
      ],
      "metadata": {
        "colab": {
          "base_uri": "https://localhost:8080/"
        },
        "id": "GjmrnFjrdpXe",
        "outputId": "6352924b-9cd2-4479-f344-d5618abd41e2"
      },
      "execution_count": 3,
      "outputs": [
        {
          "output_type": "stream",
          "name": "stdout",
          "text": [
            "Collecting flask_ngrok\n",
            "  Downloading flask_ngrok-0.0.25-py3-none-any.whl.metadata (1.8 kB)\n",
            "Collecting pyngrok\n",
            "  Downloading pyngrok-7.2.0-py3-none-any.whl.metadata (7.4 kB)\n",
            "Collecting sentence-transformers\n",
            "  Downloading sentence_transformers-3.0.1-py3-none-any.whl.metadata (10 kB)\n",
            "Requirement already satisfied: Flask>=0.8 in /usr/local/lib/python3.10/dist-packages (from flask_ngrok) (2.2.5)\n",
            "Requirement already satisfied: requests in /usr/local/lib/python3.10/dist-packages (from flask_ngrok) (2.31.0)\n",
            "Requirement already satisfied: PyYAML>=5.1 in /usr/local/lib/python3.10/dist-packages (from pyngrok) (6.0.1)\n",
            "Requirement already satisfied: transformers<5.0.0,>=4.34.0 in /usr/local/lib/python3.10/dist-packages (from sentence-transformers) (4.42.4)\n",
            "Requirement already satisfied: tqdm in /usr/local/lib/python3.10/dist-packages (from sentence-transformers) (4.66.4)\n",
            "Requirement already satisfied: torch>=1.11.0 in /usr/local/lib/python3.10/dist-packages (from sentence-transformers) (2.3.1+cu121)\n",
            "Requirement already satisfied: numpy in /usr/local/lib/python3.10/dist-packages (from sentence-transformers) (1.26.4)\n",
            "Requirement already satisfied: scikit-learn in /usr/local/lib/python3.10/dist-packages (from sentence-transformers) (1.3.2)\n",
            "Requirement already satisfied: scipy in /usr/local/lib/python3.10/dist-packages (from sentence-transformers) (1.13.1)\n",
            "Requirement already satisfied: huggingface-hub>=0.15.1 in /usr/local/lib/python3.10/dist-packages (from sentence-transformers) (0.23.5)\n",
            "Requirement already satisfied: Pillow in /usr/local/lib/python3.10/dist-packages (from sentence-transformers) (9.4.0)\n",
            "Requirement already satisfied: Werkzeug>=2.2.2 in /usr/local/lib/python3.10/dist-packages (from Flask>=0.8->flask_ngrok) (3.0.3)\n",
            "Requirement already satisfied: Jinja2>=3.0 in /usr/local/lib/python3.10/dist-packages (from Flask>=0.8->flask_ngrok) (3.1.4)\n",
            "Requirement already satisfied: itsdangerous>=2.0 in /usr/local/lib/python3.10/dist-packages (from Flask>=0.8->flask_ngrok) (2.2.0)\n",
            "Requirement already satisfied: click>=8.0 in /usr/local/lib/python3.10/dist-packages (from Flask>=0.8->flask_ngrok) (8.1.7)\n",
            "Requirement already satisfied: filelock in /usr/local/lib/python3.10/dist-packages (from huggingface-hub>=0.15.1->sentence-transformers) (3.15.4)\n",
            "Requirement already satisfied: fsspec>=2023.5.0 in /usr/local/lib/python3.10/dist-packages (from huggingface-hub>=0.15.1->sentence-transformers) (2024.6.1)\n",
            "Requirement already satisfied: packaging>=20.9 in /usr/local/lib/python3.10/dist-packages (from huggingface-hub>=0.15.1->sentence-transformers) (24.1)\n",
            "Requirement already satisfied: typing-extensions>=3.7.4.3 in /usr/local/lib/python3.10/dist-packages (from huggingface-hub>=0.15.1->sentence-transformers) (4.12.2)\n",
            "Requirement already satisfied: sympy in /usr/local/lib/python3.10/dist-packages (from torch>=1.11.0->sentence-transformers) (1.13.1)\n",
            "Requirement already satisfied: networkx in /usr/local/lib/python3.10/dist-packages (from torch>=1.11.0->sentence-transformers) (3.3)\n",
            "Collecting nvidia-cuda-nvrtc-cu12==12.1.105 (from torch>=1.11.0->sentence-transformers)\n",
            "  Using cached nvidia_cuda_nvrtc_cu12-12.1.105-py3-none-manylinux1_x86_64.whl.metadata (1.5 kB)\n",
            "Collecting nvidia-cuda-runtime-cu12==12.1.105 (from torch>=1.11.0->sentence-transformers)\n",
            "  Using cached nvidia_cuda_runtime_cu12-12.1.105-py3-none-manylinux1_x86_64.whl.metadata (1.5 kB)\n",
            "Collecting nvidia-cuda-cupti-cu12==12.1.105 (from torch>=1.11.0->sentence-transformers)\n",
            "  Using cached nvidia_cuda_cupti_cu12-12.1.105-py3-none-manylinux1_x86_64.whl.metadata (1.6 kB)\n",
            "Collecting nvidia-cudnn-cu12==8.9.2.26 (from torch>=1.11.0->sentence-transformers)\n",
            "  Using cached nvidia_cudnn_cu12-8.9.2.26-py3-none-manylinux1_x86_64.whl.metadata (1.6 kB)\n",
            "Collecting nvidia-cublas-cu12==12.1.3.1 (from torch>=1.11.0->sentence-transformers)\n",
            "  Using cached nvidia_cublas_cu12-12.1.3.1-py3-none-manylinux1_x86_64.whl.metadata (1.5 kB)\n",
            "Collecting nvidia-cufft-cu12==11.0.2.54 (from torch>=1.11.0->sentence-transformers)\n",
            "  Using cached nvidia_cufft_cu12-11.0.2.54-py3-none-manylinux1_x86_64.whl.metadata (1.5 kB)\n",
            "Collecting nvidia-curand-cu12==10.3.2.106 (from torch>=1.11.0->sentence-transformers)\n",
            "  Using cached nvidia_curand_cu12-10.3.2.106-py3-none-manylinux1_x86_64.whl.metadata (1.5 kB)\n",
            "Collecting nvidia-cusolver-cu12==11.4.5.107 (from torch>=1.11.0->sentence-transformers)\n",
            "  Using cached nvidia_cusolver_cu12-11.4.5.107-py3-none-manylinux1_x86_64.whl.metadata (1.6 kB)\n",
            "Collecting nvidia-cusparse-cu12==12.1.0.106 (from torch>=1.11.0->sentence-transformers)\n",
            "  Using cached nvidia_cusparse_cu12-12.1.0.106-py3-none-manylinux1_x86_64.whl.metadata (1.6 kB)\n",
            "Collecting nvidia-nccl-cu12==2.20.5 (from torch>=1.11.0->sentence-transformers)\n",
            "  Using cached nvidia_nccl_cu12-2.20.5-py3-none-manylinux2014_x86_64.whl.metadata (1.8 kB)\n",
            "Collecting nvidia-nvtx-cu12==12.1.105 (from torch>=1.11.0->sentence-transformers)\n",
            "  Using cached nvidia_nvtx_cu12-12.1.105-py3-none-manylinux1_x86_64.whl.metadata (1.7 kB)\n",
            "Requirement already satisfied: triton==2.3.1 in /usr/local/lib/python3.10/dist-packages (from torch>=1.11.0->sentence-transformers) (2.3.1)\n",
            "Collecting nvidia-nvjitlink-cu12 (from nvidia-cusolver-cu12==11.4.5.107->torch>=1.11.0->sentence-transformers)\n",
            "  Using cached nvidia_nvjitlink_cu12-12.6.20-py3-none-manylinux2014_x86_64.whl.metadata (1.5 kB)\n",
            "Requirement already satisfied: regex!=2019.12.17 in /usr/local/lib/python3.10/dist-packages (from transformers<5.0.0,>=4.34.0->sentence-transformers) (2024.5.15)\n",
            "Requirement already satisfied: safetensors>=0.4.1 in /usr/local/lib/python3.10/dist-packages (from transformers<5.0.0,>=4.34.0->sentence-transformers) (0.4.3)\n",
            "Requirement already satisfied: tokenizers<0.20,>=0.19 in /usr/local/lib/python3.10/dist-packages (from transformers<5.0.0,>=4.34.0->sentence-transformers) (0.19.1)\n",
            "Requirement already satisfied: charset-normalizer<4,>=2 in /usr/local/lib/python3.10/dist-packages (from requests->flask_ngrok) (3.3.2)\n",
            "Requirement already satisfied: idna<4,>=2.5 in /usr/local/lib/python3.10/dist-packages (from requests->flask_ngrok) (3.7)\n",
            "Requirement already satisfied: urllib3<3,>=1.21.1 in /usr/local/lib/python3.10/dist-packages (from requests->flask_ngrok) (2.0.7)\n",
            "Requirement already satisfied: certifi>=2017.4.17 in /usr/local/lib/python3.10/dist-packages (from requests->flask_ngrok) (2024.7.4)\n",
            "Requirement already satisfied: joblib>=1.1.1 in /usr/local/lib/python3.10/dist-packages (from scikit-learn->sentence-transformers) (1.4.2)\n",
            "Requirement already satisfied: threadpoolctl>=2.0.0 in /usr/local/lib/python3.10/dist-packages (from scikit-learn->sentence-transformers) (3.5.0)\n",
            "Requirement already satisfied: MarkupSafe>=2.0 in /usr/local/lib/python3.10/dist-packages (from Jinja2>=3.0->Flask>=0.8->flask_ngrok) (2.1.5)\n",
            "Requirement already satisfied: mpmath<1.4,>=1.1.0 in /usr/local/lib/python3.10/dist-packages (from sympy->torch>=1.11.0->sentence-transformers) (1.3.0)\n",
            "Downloading flask_ngrok-0.0.25-py3-none-any.whl (3.1 kB)\n",
            "Downloading pyngrok-7.2.0-py3-none-any.whl (22 kB)\n",
            "Downloading sentence_transformers-3.0.1-py3-none-any.whl (227 kB)\n",
            "\u001b[2K   \u001b[90m━━━━━━━━━━━━━━━━━━━━━━━━━━━━━━━━━━━━━━━━\u001b[0m \u001b[32m227.1/227.1 kB\u001b[0m \u001b[31m6.0 MB/s\u001b[0m eta \u001b[36m0:00:00\u001b[0m\n",
            "\u001b[?25hUsing cached nvidia_cublas_cu12-12.1.3.1-py3-none-manylinux1_x86_64.whl (410.6 MB)\n",
            "Using cached nvidia_cuda_cupti_cu12-12.1.105-py3-none-manylinux1_x86_64.whl (14.1 MB)\n",
            "Using cached nvidia_cuda_nvrtc_cu12-12.1.105-py3-none-manylinux1_x86_64.whl (23.7 MB)\n",
            "Using cached nvidia_cuda_runtime_cu12-12.1.105-py3-none-manylinux1_x86_64.whl (823 kB)\n",
            "Using cached nvidia_cudnn_cu12-8.9.2.26-py3-none-manylinux1_x86_64.whl (731.7 MB)\n",
            "Using cached nvidia_cufft_cu12-11.0.2.54-py3-none-manylinux1_x86_64.whl (121.6 MB)\n",
            "Using cached nvidia_curand_cu12-10.3.2.106-py3-none-manylinux1_x86_64.whl (56.5 MB)\n",
            "Using cached nvidia_cusolver_cu12-11.4.5.107-py3-none-manylinux1_x86_64.whl (124.2 MB)\n",
            "Using cached nvidia_cusparse_cu12-12.1.0.106-py3-none-manylinux1_x86_64.whl (196.0 MB)\n",
            "Using cached nvidia_nccl_cu12-2.20.5-py3-none-manylinux2014_x86_64.whl (176.2 MB)\n",
            "Using cached nvidia_nvtx_cu12-12.1.105-py3-none-manylinux1_x86_64.whl (99 kB)\n",
            "Using cached nvidia_nvjitlink_cu12-12.6.20-py3-none-manylinux2014_x86_64.whl (19.7 MB)\n",
            "Installing collected packages: pyngrok, nvidia-nvtx-cu12, nvidia-nvjitlink-cu12, nvidia-nccl-cu12, nvidia-curand-cu12, nvidia-cufft-cu12, nvidia-cuda-runtime-cu12, nvidia-cuda-nvrtc-cu12, nvidia-cuda-cupti-cu12, nvidia-cublas-cu12, nvidia-cusparse-cu12, nvidia-cudnn-cu12, nvidia-cusolver-cu12, flask_ngrok, sentence-transformers\n",
            "Successfully installed flask_ngrok-0.0.25 nvidia-cublas-cu12-12.1.3.1 nvidia-cuda-cupti-cu12-12.1.105 nvidia-cuda-nvrtc-cu12-12.1.105 nvidia-cuda-runtime-cu12-12.1.105 nvidia-cudnn-cu12-8.9.2.26 nvidia-cufft-cu12-11.0.2.54 nvidia-curand-cu12-10.3.2.106 nvidia-cusolver-cu12-11.4.5.107 nvidia-cusparse-cu12-12.1.0.106 nvidia-nccl-cu12-2.20.5 nvidia-nvjitlink-cu12-12.6.20 nvidia-nvtx-cu12-12.1.105 pyngrok-7.2.0 sentence-transformers-3.0.1\n"
          ]
        }
      ]
    },
    {
      "cell_type": "code",
      "execution_count": 4,
      "metadata": {
        "colab": {
          "base_uri": "https://localhost:8080/"
        },
        "id": "WlDYISUiJSBw",
        "outputId": "200a4f27-ca6e-4fb7-92cc-98180d4b46c9"
      },
      "outputs": [
        {
          "output_type": "stream",
          "name": "stdout",
          "text": [
            "Authtoken saved to configuration file: /root/.config/ngrok/ngrok.yml\n"
          ]
        }
      ],
      "source": [
        "!ngrok authtoken \"2kEiDvlDvDmlSrjFdidw1UnLQmx_32guShAgCSJ9W3gqsYXPA\""
      ]
    },
    {
      "cell_type": "code",
      "source": [
        "import os\n",
        "import glob\n",
        "import pickle\n",
        "import numpy as np\n",
        "import pandas as pd\n",
        "from pyngrok import ngrok\n",
        "from datetime import datetime\n",
        "from google.colab import drive\n",
        "from flask_ngrok import run_with_ngrok\n",
        "from sklearn.preprocessing import StandardScaler\n",
        "from flask import Flask, render_template, request, jsonify\n",
        "from sklearn.preprocessing import StandardScaler"
      ],
      "metadata": {
        "id": "Zj8t6mw4eoOz"
      },
      "execution_count": 6,
      "outputs": []
    },
    {
      "cell_type": "code",
      "source": [
        "def predict_price(input_data, model, scaler):\n",
        "\n",
        "    # Prepare the input data\n",
        "\n",
        "    # Initialize an empty DataFrame\n",
        "    df_input2 = pd.DataFrame([input_data])\n",
        "\n",
        "    # Independent features\n",
        "    X = df_input2\n",
        "\n",
        "    # Scale the data using the same scaler used during training Standard Scaler\n",
        "    X = scaler.transform(X)\n",
        "\n",
        "    # Make predictions using the trained Decision model\n",
        "    y_prediction = model.predict(X)\n",
        "\n",
        "    return y_prediction[0]"
      ],
      "metadata": {
        "id": "PfprwF1VeoLY"
      },
      "execution_count": 9,
      "outputs": []
    },
    {
      "cell_type": "code",
      "source": [
        "import joblib\n",
        "\n",
        "# Load the models from the files\n",
        "loaded_lr_model = joblib.load('/content/drive/MyDrive/flight_price_prediction_regression2.pkl')"
      ],
      "metadata": {
        "id": "Aue-N1E1hfBe"
      },
      "execution_count": 10,
      "outputs": []
    },
    {
      "cell_type": "code",
      "source": [
        "!ngrok authtoken \"2kEiDvlDvDmlSrjFdidw1UnLQmx_32guShAgCSJ9W3gqsYXPA\"\n",
        "\n",
        "app = Flask(__name__)\n",
        "run_with_ngrok(app)"
      ],
      "metadata": {
        "colab": {
          "base_uri": "https://localhost:8080/"
        },
        "id": "UNwPVDWzjgb2",
        "outputId": "42aed80c-7ef9-43af-8328-bb2ae3b42b75"
      },
      "execution_count": 16,
      "outputs": [
        {
          "output_type": "stream",
          "name": "stdout",
          "text": [
            "Authtoken saved to configuration file: /root/.config/ngrok/ngrok.yml\n"
          ]
        }
      ]
    },
    {
      "cell_type": "code",
      "source": [
        "\n",
        "@app.route('/', methods=['GET', 'POST'])\n",
        "def predict():\n",
        "    return \"\"\"\n",
        "\n",
        "    <!DOCTYPE html>\n",
        "<html>\n",
        "<head>\n",
        "    <title>Flight Price Prediction</title>\n",
        "    <style>\n",
        "        body {\n",
        "            font-family: 'Poppins', sans-serif;\n",
        "            background-color: #f9f9f9;\n",
        "            margin: 0;\n",
        "            padding: 0;\n",
        "        }\n",
        "\n",
        "        .container {\n",
        "            max-width: 800px;\n",
        "            margin: 0 auto;\n",
        "            padding: 40px;\n",
        "            background-color: #ffffff;\n",
        "            border-radius: 10px;\n",
        "            box-shadow: 0 10px 20px rgba(0, 0, 0, 0.1);\n",
        "            text-align: center;\n",
        "        }\n",
        "\n",
        "        h1 {\n",
        "            color: #007BFF;\n",
        "            font-size: 36px;\n",
        "            margin-bottom: 20px;\n",
        "        }\n",
        "\n",
        "        form {\n",
        "            text-align: left;\n",
        "        }\n",
        "\n",
        "        input[type=\"text\"],\n",
        "        input[type=\"number\"] {\n",
        "            width: 100%;\n",
        "            padding: 15px;\n",
        "            margin: 15px 0;\n",
        "            border: none;\n",
        "            border-bottom: 2px solid #007BFF;\n",
        "            font-size: 18px;\n",
        "            background-color: transparent;\n",
        "            color: #333;\n",
        "            transition: border-bottom 0.3s ease;\n",
        "        }\n",
        "\n",
        "        input[type=\"text\"]:focus,\n",
        "        input[type=\"number\"]:focus {\n",
        "            border-bottom: 2px solid #0056b3;\n",
        "            outline: none;\n",
        "        }\n",
        "\n",
        "        input[type=\"checkbox\"],\n",
        "        input[type=\"radio\"] {\n",
        "            margin-right: 10px;\n",
        "        }\n",
        "\n",
        "        input[type=\"submit\"] {\n",
        "            background-color: #007BFF;\n",
        "            color: #fff;\n",
        "            padding: 15px 30px;\n",
        "            border: none;\n",
        "            border-radius: 5px;\n",
        "            cursor: pointer;\n",
        "            font-size: 20px;\n",
        "            transition: background-color 0.3s ease;\n",
        "        }\n",
        "\n",
        "        input[type=\"submit\"]:hover {\n",
        "            background-color: #0056b3;\n",
        "        }\n",
        "\n",
        "        p#prediction {\n",
        "            margin-top: 20px;\n",
        "            font-size: 24px;\n",
        "            color: #007BFF;\n",
        "        }\n",
        "    </style>\n",
        "</head>\n",
        "<body>\n",
        "    <div class=\"container\">\n",
        "        <h1>Flight Price Prediction</h1>\n",
        "        <form action=\"/predict\" method=\"POST\">\n",
        "            <label for=\"Package Name\">Package Name:</label>\n",
        "            <input type=\"text\" name=\"Package Name\" placeholder=\"Custom Package\" value=\"A Grand Week in North East - Lachung Special\">\n",
        "\n",
        "            <label for=\"Destination\">Destination:</label>\n",
        "            <input type=\"text\" name=\"Destination\" placeholder=\"Custom Destination\" value=\"Gangtok|Lachung|Gangtok|Darjeeling\">\n",
        "\n",
        "            <label for=\"Itinerary\">Itinerary:</label>\n",
        "            <input type=\"text\" name=\"Itinerary\" placeholder=\"Custom Itinerary\" value=\"2N Gangtok . 2N Lachung . 1N Gangtok . 2N Darjeeling\">\n",
        "\n",
        "            <label for=\"Places Covered\">Places Covered:</label>\n",
        "            <input type=\"text\" name=\"Places Covered\" placeholder=\"Custom Places\" value=\"Gangtok|Lachung|Gangtok|Darjeeling\">\n",
        "\n",
        "            <label for=\"Hotel Details\">Hotel Details:</label>\n",
        "            <input type=\"text\" name=\"Hotel Details\" placeholder=\"Custom Hotel Details\" value=\"Lemon Tree Hotel  Gangtok:4.2|Summit Alpine Resort, Lachung- MMT Holidays Special:4.2|Lemon Tree Hotel  Gangtok:4.4|Ramada by Wyndham Darjeeling Gandhi Road:\">\n",
        "\n",
        "            <label for=\"Airline\">Airline:</label>\n",
        "            <input type=\"text\" name=\"Airline\" placeholder=\"Custom Airline\" value=\"Air India|IndiGo\">\n",
        "\n",
        "            <label for=\"Sightseeing Places Covered\">Sightseeing Places Covered:</label>\n",
        "            <input type=\"text\" name=\"Sightseeing Places Covered\" placeholder=\"Custom Sightseeing\" value=\"Baba Mandir | MG Road - Walk | Visit to Lake Tsomgo with Yak Safari | Snacks at Changu lake (Winter Special) | Yumthang Valley | Hot Spring\">\n",
        "\n",
        "            <label for=\"Cancellation Rules\">Cancellation Rules:</label>\n",
        "            <input type=\"text\" name=\"Cancellation Rules\" placeholder=\"Custom Cancellation Rules\" value=\"Not Available\">\n",
        "\n",
        "\n",
        "            <label for=\"Package Type_Standard\">Package Type_Standard:</label>\n",
        "            <input type=\"checkbox\" name=\"Package Type_Standard\" value=\"1\" checked>\n",
        "\n",
        "            <label for=\"Package Type_Premium\">Package Type_Premium:</label>\n",
        "            <input type=\"checkbox\" name=\"Package Type_Premium\" value=\"1\">\n",
        "\n",
        "            <label for=\"Package Type_Luxury\">Package Type_Luxury:</label>\n",
        "            <input type=\"checkbox\" name=\"Package Type_Luxury\" value=\"1\">\n",
        "\n",
        "            <label for=\"Travel_Month\">Travel Month:</label>\n",
        "            <input type=\"number\" name=\"Travel_Month\" min=\"1\" max=\"12\" placeholder=\"Travel Month\" value=\"5\">\n",
        "\n",
        "            <label for=\"Package Type_Budget\">Package Type_Budget:</label>\n",
        "            <input type=\"checkbox\" name=\"Package Type_Budget\" value=\"1\">\n",
        "\n",
        "            <label for=\"Package Type_Deluxe\">Package Type_Deluxe:</label>\n",
        "            <input type=\"checkbox\" name=\"Package Type_Deluxe\" value=\"1\">\n",
        "\n",
        "            <label for=\"Hotel Ratings\">Hotel Ratings:</label>\n",
        "            <input type=\"number\" name=\"Hotel Ratings\" placeholder=\"Hotel Ratings\" value=\"4.5\">\n",
        "\n",
        "            <label for=\"Start City_New Delhi\">Start City_New Delhi:</label>\n",
        "            <input type=\"checkbox\" name=\"Start City_New Delhi\" value=\"1\">\n",
        "\n",
        "            <label for=\"Start City_Mumbai\">Start City_Mumbai:</label>\n",
        "            <input type=\"checkbox\" name=\"Start City_Mumbai\" value=\"1\">\n",
        "\n",
        "            <label for=\"Travel_DayOfWeek\">Travel Day of Week:</label>\n",
        "            <input type=\"number\" name=\"Travel_DayOfWeek\" min=\"0\" max=\"6\" placeholder=\"Travel Day of Week\" value=\"2\">\n",
        "\n",
        "            <label for=\"Travel_Year\">Travel Year:</label>\n",
        "            <input type=\"number\" name=\"Travel_Year\" min=\"2023\" max=\"2123\" placeholder=\"Travel Year\" value=\"2023\">\n",
        "\n",
        "            <input type=\"submit\" value=\"Predict\">\n",
        "        </form>\n",
        "        <p id=\"prediction\"></p>\n",
        "    </div>\n",
        "</body>\n",
        "</html>\n",
        "\n",
        "\n",
        "    \"\"\"\n",
        "\n",
        "\n",
        "@app.route('/predict', methods=['POST'])\n",
        "def index():\n",
        "    if request.method == 'POST':\n",
        "        # Get input data from the form\n",
        "        package_name = request.form.get('Package Name')\n",
        "        destination = request.form.get('Destination')\n",
        "        itinerary = request.form.get('Itinerary')\n",
        "        places_covered = request.form.get('Places Covered')\n",
        "        hotel_details = request.form.get('Hotel Details')\n",
        "        airline = request.form.get('Airline')\n",
        "        sightseeing_places = request.form.get('Sightseeing Places Covered')\n",
        "        cancellation_rules = request.form.get('Cancellation Rules')\n",
        "        package_standard = int(request.form.get('Package Type_Standard', 0))\n",
        "        package_premium = int(request.form.get('Package Type_Premium', 0))\n",
        "        package_luxury = int(request.form.get('Package Type_Luxury', 0))\n",
        "        travel_month = int(request.form.get('Travel_Month'))\n",
        "        package_budget = int(request.form.get('Package Type_Budget', 0))\n",
        "        package_deluxe = int(request.form.get('Package Type_Deluxe', 0))\n",
        "        hotel_ratings = float(request.form.get('Hotel Ratings'))\n",
        "        start_city_delhi = int(request.form.get('Start City_New Delhi', 0))\n",
        "        start_city_mumbai = int(request.form.get('Start City_Mumbai', 0))\n",
        "        travel_day_of_week = int(request.form.get('Travel_DayOfWeek'))\n",
        "        travel_year = int(request.form.get('Travel_Year'))\n",
        "\n",
        "        # Create a dictionary to store the input data\n",
        "        data = {\n",
        "            'Package Name': package_name,\n",
        "            'Destination': destination,\n",
        "            'Itinerary': itinerary,\n",
        "            'Places Covered': places_covered,\n",
        "            'Hotel Details': hotel_details,\n",
        "            'Airline': airline,\n",
        "            'Sightseeing Places Covered': sightseeing_places,\n",
        "            'Cancellation Rules': cancellation_rules,\n",
        "            'Package Type_Standard': package_standard,\n",
        "            'Package Type_Premium': package_premium,\n",
        "            'Package Type_Luxury': package_luxury,\n",
        "            'Travel_Month': travel_month,\n",
        "            'Package Type_Budget': package_budget,\n",
        "            'Package Type_Deluxe': package_deluxe,\n",
        "            'Hotel Ratings': hotel_ratings,\n",
        "            'Start City_New Delhi': start_city_delhi,\n",
        "            'Start City_Mumbai': start_city_mumbai,\n",
        "            'Travel_DayOfWeek': travel_day_of_week,\n",
        "            'Travel_Year': travel_year\n",
        "        }\n",
        "\n",
        "        # Perform prediction using the custom_input dictionary\n",
        "        prediction = predict_price(data, loaded_lr_model)//10\n",
        "        prediction = str(prediction)[-7:]\n",
        "\n",
        "        return jsonify({'prediction': prediction})\n",
        "\n",
        "\n",
        "if __name__ == \"__main__\":\n",
        "    app.run()"
      ],
      "metadata": {
        "colab": {
          "base_uri": "https://localhost:8080/"
        },
        "id": "Fdtrth_ug0Yr",
        "outputId": "728b0373-3381-4121-8a05-8cd3a83a783b"
      },
      "execution_count": 17,
      "outputs": [
        {
          "output_type": "stream",
          "name": "stdout",
          "text": [
            " * Serving Flask app '__main__'\n",
            " * Debug mode: off\n"
          ]
        },
        {
          "output_type": "stream",
          "name": "stderr",
          "text": [
            "INFO:werkzeug:\u001b[31m\u001b[1mWARNING: This is a development server. Do not use it in a production deployment. Use a production WSGI server instead.\u001b[0m\n",
            " * Running on http://127.0.0.1:5000\n",
            "INFO:werkzeug:\u001b[33mPress CTRL+C to quit\u001b[0m\n",
            "Exception in thread Thread-15:\n",
            "Traceback (most recent call last):\n",
            "  File \"/usr/local/lib/python3.10/dist-packages/urllib3/connection.py\", line 203, in _new_conn\n",
            "    sock = connection.create_connection(\n",
            "  File \"/usr/local/lib/python3.10/dist-packages/urllib3/util/connection.py\", line 85, in create_connection\n",
            "    raise err\n",
            "  File \"/usr/local/lib/python3.10/dist-packages/urllib3/util/connection.py\", line 73, in create_connection\n",
            "    sock.connect(sa)\n",
            "ConnectionRefusedError: [Errno 111] Connection refused\n",
            "\n",
            "The above exception was the direct cause of the following exception:\n",
            "\n",
            "Traceback (most recent call last):\n",
            "  File \"/usr/local/lib/python3.10/dist-packages/urllib3/connectionpool.py\", line 791, in urlopen\n",
            "    response = self._make_request(\n",
            "  File \"/usr/local/lib/python3.10/dist-packages/urllib3/connectionpool.py\", line 497, in _make_request\n",
            "    conn.request(\n",
            "  File \"/usr/local/lib/python3.10/dist-packages/urllib3/connection.py\", line 395, in request\n",
            "    self.endheaders()\n",
            "  File \"/usr/lib/python3.10/http/client.py\", line 1278, in endheaders\n",
            "    self._send_output(message_body, encode_chunked=encode_chunked)\n",
            "  File \"/usr/lib/python3.10/http/client.py\", line 1038, in _send_output\n",
            "    self.send(msg)\n",
            "  File \"/usr/lib/python3.10/http/client.py\", line 976, in send\n",
            "    self.connect()\n",
            "  File \"/usr/local/lib/python3.10/dist-packages/urllib3/connection.py\", line 243, in connect\n",
            "    self.sock = self._new_conn()\n",
            "  File \"/usr/local/lib/python3.10/dist-packages/urllib3/connection.py\", line 218, in _new_conn\n",
            "    raise NewConnectionError(\n",
            "urllib3.exceptions.NewConnectionError: <urllib3.connection.HTTPConnection object at 0x7a54658d5c30>: Failed to establish a new connection: [Errno 111] Connection refused\n",
            "\n",
            "The above exception was the direct cause of the following exception:\n",
            "\n",
            "Traceback (most recent call last):\n",
            "  File \"/usr/local/lib/python3.10/dist-packages/requests/adapters.py\", line 486, in send\n",
            "    resp = conn.urlopen(\n",
            "  File \"/usr/local/lib/python3.10/dist-packages/urllib3/connectionpool.py\", line 845, in urlopen\n",
            "    retries = retries.increment(\n",
            "  File \"/usr/local/lib/python3.10/dist-packages/urllib3/util/retry.py\", line 515, in increment\n",
            "    raise MaxRetryError(_pool, url, reason) from reason  # type: ignore[arg-type]\n",
            "urllib3.exceptions.MaxRetryError: HTTPConnectionPool(host='localhost', port=4040): Max retries exceeded with url: /api/tunnels (Caused by NewConnectionError('<urllib3.connection.HTTPConnection object at 0x7a54658d5c30>: Failed to establish a new connection: [Errno 111] Connection refused'))\n",
            "\n",
            "During handling of the above exception, another exception occurred:\n",
            "\n",
            "Traceback (most recent call last):\n",
            "  File \"/usr/lib/python3.10/threading.py\", line 1016, in _bootstrap_inner\n",
            "    self.run()\n",
            "  File \"/usr/lib/python3.10/threading.py\", line 1378, in run\n",
            "    self.function(*self.args, **self.kwargs)\n",
            "  File \"/usr/local/lib/python3.10/dist-packages/flask_ngrok.py\", line 70, in start_ngrok\n",
            "    ngrok_address = _run_ngrok()\n",
            "  File \"/usr/local/lib/python3.10/dist-packages/flask_ngrok.py\", line 35, in _run_ngrok\n",
            "    tunnel_url = requests.get(localhost_url).text  # Get the tunnel information\n",
            "  File \"/usr/local/lib/python3.10/dist-packages/requests/api.py\", line 73, in get\n",
            "    return request(\"get\", url, params=params, **kwargs)\n",
            "  File \"/usr/local/lib/python3.10/dist-packages/requests/api.py\", line 59, in request\n",
            "    return session.request(method=method, url=url, **kwargs)\n",
            "  File \"/usr/local/lib/python3.10/dist-packages/requests/sessions.py\", line 589, in request\n",
            "    resp = self.send(prep, **send_kwargs)\n",
            "  File \"/usr/local/lib/python3.10/dist-packages/requests/sessions.py\", line 703, in send\n",
            "    r = adapter.send(request, **kwargs)\n",
            "  File \"/usr/local/lib/python3.10/dist-packages/requests/adapters.py\", line 519, in send\n",
            "    raise ConnectionError(e, request=request)\n",
            "requests.exceptions.ConnectionError: HTTPConnectionPool(host='localhost', port=4040): Max retries exceeded with url: /api/tunnels (Caused by NewConnectionError('<urllib3.connection.HTTPConnection object at 0x7a54658d5c30>: Failed to establish a new connection: [Errno 111] Connection refused'))\n"
          ]
        }
      ]
    },
    {
      "cell_type": "code",
      "source": [],
      "metadata": {
        "id": "Rc4DQDNGjiQe"
      },
      "execution_count": null,
      "outputs": []
    }
  ]
}